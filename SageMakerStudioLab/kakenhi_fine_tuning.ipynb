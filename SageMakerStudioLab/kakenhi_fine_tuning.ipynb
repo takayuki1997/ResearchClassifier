{
  "cells": [
    {
      "cell_type": "markdown",
      "metadata": {
        "id": "view-in-github",
        "colab_type": "text"
      },
      "source": [
        "<a href=\"https://colab.research.google.com/github/takayuki1997/ResearchClassifier/blob/main/SageMakerStudioLab/kakenhi_fine_tuning.ipynb\" target=\"_parent\"><img src=\"https://colab.research.google.com/assets/colab-badge.svg\" alt=\"Open In Colab\"/></a>"
      ]
    },
    {
      "cell_type": "markdown",
      "metadata": {
        "id": "vrgegdDZjf8E"
      },
      "source": [
        "# 学術テキストの分類\n",
        "日本語のデータセットでBERTのモデルをファインチューニングし、学術分野の分類を行います。  \n",
        "『基盤BCで、2019年度から2021年度採択の４年分』  \n",
        "\"研究開始時の研究の概要\"の文字列を使う。  \n",
        "  \n",
        "オリジナルの課題数： 48680  \n",
        "概要が空白の課題数：   187  \n",
        "空白を除いた課題数： 48493  \n",
        "  \n",
        "日本語＋英語： 48493  \n",
        "英語　　　　：   646  \n",
        "日本語　　　： 47847  \n",
        "\n",
        "小区分がブランク：    54  \n",
        "小区分の設定あり： 47793  \n",
        "  \n",
        "重複削除前の項目数： 323  \n",
        "重複削除後の項目数： 315  \n",
        "  \n",
        "統合前のデータ数： 47793  \n",
        "統合したデータ数： 49036  \n",
        "トレーニングデータ数： 36777  \n",
        "テストデータ数　　　： 12259  "
      ]
    },
    {
      "cell_type": "markdown",
      "metadata": {
        "id": "m6moZnLFkFwr"
      },
      "source": [
        "### ライブラリのインストール\n",
        "SageMakerでは初回だけで良い（Google colaboratoryでは毎回）  \n",
        "ライブラリTransformers、およびnlpをインストールします。  "
      ]
    },
    {
      "cell_type": "code",
      "execution_count": null,
      "metadata": {
        "vscode": {
          "languageId": "python"
        },
        "id": "KUseWNDhlnsy"
      },
      "outputs": [],
      "source": [
        "# pipのアップデート（たまに走らせても良いかも）\n",
        "!pip list\n",
        "!python -m pip install --upgrade pip"
      ]
    },
    {
      "cell_type": "code",
      "execution_count": null,
      "metadata": {
        "id": "7qg6t5nnBjqs",
        "vscode": {
          "languageId": "python"
        }
      },
      "outputs": [],
      "source": [
        "# ライブラリのインストール\n",
        "!pip install torch\n",
        "!pip install transformers\n",
        "!pip install nlp\n",
        "!pip install datasets\n",
        "!pip install fugashi\n",
        "!pip install ipadic\n",
        "!pip install scikit-learn\n",
        "!pip install matplotlib\n",
        "!pip install tensorboard"
      ]
    },
    {
      "cell_type": "markdown",
      "metadata": {
        "id": "KcHOX9LyZc2g"
      },
      "source": [
        "### Google ドライブとの連携  \n",
        "以下のコードを実行し、認証コードを使用してGoogle ドライブをマウントします。"
      ]
    },
    {
      "cell_type": "code",
      "execution_count": null,
      "metadata": {
        "id": "7h7BA67Ed5wT",
        "vscode": {
          "languageId": "python"
        }
      },
      "outputs": [],
      "source": [
        "# SageMakerでは不要\n",
        "# from google.colab import drive\n",
        "# drive.mount(\"/content/drive/\")"
      ]
    },
    {
      "cell_type": "markdown",
      "metadata": {
        "id": "zliYGLC5g0h2"
      },
      "source": [
        "## ファインチューニング用データの読み込み＆書き出し\n",
        "### 科研費データの読み込み、整理\n",
        "科研費データベースからダウンロードしたcsvファイルを直接読む  \n",
        "必要なデータを取り出す。"
      ]
    },
    {
      "cell_type": "code",
      "execution_count": null,
      "metadata": {
        "id": "jPV3qCYs9STS",
        "vscode": {
          "languageId": "python"
        }
      },
      "outputs": [],
      "source": [
        "\n",
        "\n",
        "import pandas as pd\n",
        "\n",
        "# 科研費データベースからダウンロードした未加工のcsvファイルを指定\n",
        "# 基盤BC　2019年度～2021年度の４年分（2018年度は”研究開始時の研究の概要”が無い。2022年度は後半の検証に用いる）\n",
        "open_original_csv = \"KibanBC_2019-2021.csv\"\n",
        "\n",
        "# data_path = \"/content/drive/My Drive/bert_nlp/section_5/\" # Google colaboratory\n",
        "data_path = \"../data/\" # SageMaker\n",
        "\n",
        "# csvファイルを開く\n",
        "raw_data = pd.read_csv(data_path + open_original_csv) # dtype=\"object\"必要？\n",
        "\n",
        "# 読み込んだデータをチェック\n",
        "# raw_data.info()\n",
        "\n",
        "# 今後必要な行だけを取り出し、リネーム\n",
        "# kadai = raw_data[[\"研究課題/領域番号\", \"審査区分\", \"研究課題名\", \"研究開始時の研究の概要\", \"研究成果の概要\", \"研究実績の概要\", \"キーワード\"]]\n",
        "# kadai.columns = [\"ID\", \"ShoKubun\", \"Title\", \"Abst1\", \"Abst2\", \"Abst3\", \"Keyword\"]\n",
        "kadai = raw_data[[\"研究課題/領域番号\", \"審査区分\", \"研究開始時の研究の概要\"]]\n",
        "kadai.columns = [\"ID\", \"ShoKubun\", \"Abst\"]\n",
        "\n",
        "# 課題番号の重複を確認。課題番号でソートする。\n",
        "kadai[\"ID\"].duplicated().any()\n",
        "# kadai = kadai.set_index(\"ID\") # IDをインデックスに設定するコード\n",
        "kadai = kadai.sort_values(\"ID\")\n",
        "kadai.reset_index(inplace=True, drop=True)\n",
        "\n",
        "# Abstの各項目が英語だけの場合、ブランクに入れ替える\n",
        "# kadai.Abst1[~kadai[\"Title\"].str.contains(r'[ぁ-んァ-ン]', na=True)] = \"\"\n",
        "# kadai.Abst2[~kadai[\"Abst1\"].str.contains(r'[ぁ-んァ-ン]', na=True)] = \"\"\n",
        "# kadai.Abst3[~kadai[\"Abst2\"].str.contains(r'[ぁ-んァ-ン]', na=True)] = \"\"\n",
        "# kadai.Abst1[~kadai[\"Abst3\"].str.contains(r'[ぁ-んァ-ン]', na=True)] = \"\"\n",
        "\n",
        "# 研究開始時の研究の概要、研究成果の概要、研究実績の概要、キーワードを結合\n",
        "# kadai['Abst'] = kadai['Title'].fillna('') + kadai['Abst1'].fillna('') + kadai['Abst2'].fillna('') + kadai['Abst3'].fillna('') + kadai['Keyword'] # t01\n",
        "# kadai['Abst'] = kadai['Title'].fillna('') + '。' + kadai['Keyword'] + '。' + kadai['Abst1'].fillna('') + kadai['Abst2'].fillna('') + kadai['Abst3'].fillna('') # t02\n",
        "\n",
        "\n",
        "\n",
        "# Abstが空欄の課題を削除\n",
        "print(\"オリジナルの課題数： %5d\" % len(kadai))\n",
        "print(\"概要が空白の課題数： %5d\" % len(kadai[kadai[\"Abst\"].isna()]))\n",
        "kadai = kadai.dropna(subset=[\"Abst\"])\n",
        "print(\"空白を除いた課題数： %5d\\n\" % len(kadai))\n",
        "\n",
        "# Abst中の改行コード、全角スペースを削除\n",
        "kadai = kadai.replace('\\r', '', regex=True) # Carriage Return(MacOS9) \\r\\n for Windows\n",
        "kadai = kadai.replace('\\n', '', regex=True) # Line Feed（Unix MacOSX）\n",
        "# kadai = kadai.replace(' ', '', regex=True) # 半角スペースは英語があるので削除しない\n",
        "kadai = kadai.replace('　', '', regex=True) # 全角スペース\n",
        "\n",
        "# Abstが英語のみの課題を削除\n",
        "num_jpen = len(kadai)\n",
        "kadai = kadai[kadai[\"Abst\"].str.contains(r'[ぁ-んァ-ン]')]\n",
        "num_jp   = len(kadai)\n",
        "print(\"日本語＋英語： %5d\" % num_jpen)\n",
        "print(\"英語　　　　： %5d\" % (num_jpen - num_jp))\n",
        "print(\"日本語　　　： %5d\\n\" % num_jp)\n",
        "\n",
        "# 小区分が設定されていない課題を削除（旧分類、特設分野）\n",
        "aaa = len(kadai)\n",
        "kadai = kadai.dropna(subset=[\"ShoKubun\"])\n",
        "print(\"小区分がブランク： %5d\" % (aaa - len(kadai)))\n",
        "print(\"小区分の設定あり： %5d\\n\" % len(kadai))\n",
        "\n",
        "# 小区分の文字列の数字部分だけを取り出す\n",
        "kadai[\"ShoKubun\"] = kadai[\"ShoKubun\"].str[3:8]\n",
        "kadai = kadai.astype({\"ShoKubun\": int})\n",
        "\n",
        "kadai"
      ]
    },
    {
      "cell_type": "markdown",
      "metadata": {
        "id": "LADy70wOgyXg"
      },
      "source": [
        "### 整理した科研費データの保存\n",
        "審査区分データを読み込み、小区分番号を参照して結合  \n",
        "トレーニングデータと、テストデータに分けて保存する。"
      ]
    },
    {
      "cell_type": "code",
      "execution_count": null,
      "metadata": {
        "id": "fIyvN2MT4Unl",
        "vscode": {
          "languageId": "python"
        }
      },
      "outputs": [],
      "source": [
        "from sklearn.model_selection import train_test_split\n",
        "\n",
        "# 科研費の審査区分表データのcsvファイル\n",
        "open_kubun_csv = \"KubunTable.csv\"\n",
        "# data_path = \"/content/drive/My Drive/bert_nlp/section_5/\" # Google colaboratory\n",
        "data_path = \"./\" # sagemaker\n",
        "\n",
        "# 書き出し用CSVファイル名\n",
        "train_csv = data_path + \"kadai_train.csv\"\n",
        "test_csv  = data_path + \"kadai_test.csv\"\n",
        "\n",
        "# ============================================================================\n",
        "\n",
        "# 審査区分テーブルのロード\n",
        "kubun_table = pd.read_csv(data_path + open_kubun_csv, encoding=\"cp932\")\n",
        "kubun_table = kubun_table[[\"tabDai\", \"tabSho\"]]\n",
        "\n",
        "# 審査区分表の重複を削除（一つの小区分が２つまたは３つの『中区分』に所属することに由来する）\n",
        "print(\"重複削除前の項目数： %3d\" % len(kubun_table))\n",
        "kubun_table = kubun_table.drop_duplicates()\n",
        "print(\"重複削除後の項目数： %3d\\n\" % len(kubun_table))\n",
        "\n",
        "## 中区分への変換\n",
        "## mergeを用いて、審査区分表のデータと突合\n",
        "#print(\"統合前のデータ数： %5d\" % len(kadai))\n",
        "#kadaiChu = pd.merge(kadai, kubun_table, left_on='ShoKubun', right_on='tabSho')\n",
        "#kadaiChu = kadaiChu[[\"Abst\", \"tabChu\", \"ID\", \"ShoKubun\"]]\n",
        "#print(\"統合したデータ数： %5d\\n\" % len(kadaiChu))\n",
        "\n",
        "# 大区分への変換\n",
        "# mergeを用いて、審査区分表のデータと突合\n",
        "print(\"統合前のデータ数： %5d\" % len(kadai))\n",
        "kadaiDai = pd.merge(kadai, kubun_table, left_on='ShoKubun', right_on='tabSho')\n",
        "kadaiDai = kadaiDai[[\"Abst\", \"tabDai\", \"ID\", \"ShoKubun\"]]\n",
        "print(\"統合したデータ数： %5d\" % len(kadaiDai))\n",
        "\n",
        "# 訓練用とテスト用に分割 層化\n",
        "kadai_train, kadai_test =  train_test_split(kadaiDai, shuffle=True, stratify = kadaiDai[\"tabDai\"].tolist())\n",
        "print(\"トレーニングデータ数： %5d\"   % len(kadai_train))\n",
        "print(\"テストデータ数　　　： %5d\\n\" % len(kadai_test))\n",
        "\n",
        "\n",
        "\n",
        "## 訓練用とテスト用に分割 層化\n",
        "#kadai_train, kadai_test =  train_test_split(kadaiChu, shuffle=True, stratify = kadaiChu[\"tabChu\"].tolist())\n",
        "#print(\"トレーニングデータ数： %5d\" % len(kadai_train))\n",
        "#print(\"テストデータ数　　　： %5d\\n\" % len(kadai_test))\n",
        "\n",
        "# 課題番号→小区分→中区分を基準にソート（計算的には不要だが、人間用にソートしておく）\n",
        "kadai_train = kadai_train.sort_values([\"tabDai\", \"ShoKubun\", \"ID\"])\n",
        "kadai_test  = kadai_test.sort_values ([\"tabDai\", \"ShoKubun\", \"ID\"])\n",
        "\n",
        "# ソート用に残していた課題番号（ID）行を削除\n",
        "#kadai_train = kadai_train.drop(['ID'], axis=1)\n",
        "#kadai_test  = kadai_test.drop (['ID'], axis=1)\n",
        "kadai_train = kadai_train.drop(['ID', 'ShoKubun'], axis=1)\n",
        "kadai_test  = kadai_test.drop (['ID', 'ShoKubun'], axis=1)\n",
        "\n",
        "# csvとして書き出し\n",
        "kadai_train.to_csv(train_csv, header=False, index=False)\n",
        "kadai_test.to_csv (test_csv,  header=False, index=False)\n",
        "\n",
        "print(\"Saved\\n %s\\n %s\\n\" % (train_csv, test_csv))"
      ]
    },
    {
      "cell_type": "markdown",
      "metadata": {
        "id": "ZsgQNMJxpBnW"
      },
      "source": [
        "## ファインチューニングの実施\n",
        "### モデルとTokenizerの読み込み\n",
        "日本語の事前学習済みモデルと、これと紐づいたTokenizerを読み込みます。"
      ]
    },
    {
      "cell_type": "code",
      "execution_count": null,
      "metadata": {
        "id": "9R0HK29fHrf3",
        "vscode": {
          "languageId": "python"
        }
      },
      "outputs": [],
      "source": [
        "from transformers import BertForSequenceClassification, BertJapaneseTokenizer\n",
        "\n",
        "sc_model = BertForSequenceClassification.from_pretrained(\"cl-tohoku/bert-base-japanese-whole-word-masking\", num_labels=11) # 大区分は11\n",
        "sc_model.cuda() # GPUを使う\n",
        "tokenizer = BertJapaneseTokenizer.from_pretrained(\"cl-tohoku/bert-base-japanese-whole-word-masking\")\n",
        "\n",
        "print(\"Finish\")"
      ]
    },
    {
      "cell_type": "markdown",
      "metadata": {
        "id": "aWCmm2TjqToE"
      },
      "source": [
        "### データセットの読み込み\n",
        "さきほど作成した科研費データ（training,test）を読み込みます。"
      ]
    },
    {
      "cell_type": "code",
      "execution_count": null,
      "metadata": {
        "id": "rfEnNpv9HuXI",
        "vscode": {
          "languageId": "python"
        }
      },
      "outputs": [],
      "source": [
        "from datasets import load_dataset\n",
        "\n",
        "def tokenize(batch):\n",
        "    # return tokenizer(batch[\"text\"], padding=True, truncation=True, max_length=128)\n",
        "    return tokenizer(batch[\"text\"], padding=True, truncation=True, max_length=512)\n",
        "\n",
        "data_path = \"./\"\n",
        "\n",
        "train_data = load_dataset(\"csv\", data_files=data_path+\"news_train.csv\", column_names=[\"text\", \"label\"], split=\"train\")\n",
        "train_data = train_data.map(tokenize, batched=True, batch_size=len(train_data))\n",
        "train_data.set_format(\"torch\", columns=[\"input_ids\", \"label\"])\n",
        "\n",
        "test_data = load_dataset(\"csv\", data_files=data_path+\"news_test.csv\", column_names=[\"text\", \"label\"], split=\"train\")\n",
        "test_data = test_data.map(tokenize, batched=True, batch_size=len(test_data))\n",
        "test_data.set_format(\"torch\", columns=[\"input_ids\", \"label\"])\n",
        "\n",
        "print(\"Finish\")"
      ]
    },
    {
      "cell_type": "markdown",
      "metadata": {
        "id": "9Y6Fcqmy2rG2"
      },
      "source": [
        "## 評価用の関数\n",
        "`sklearn.metrics`を使用し、モデルを評価するための関数を定義します。  \n"
      ]
    },
    {
      "cell_type": "code",
      "execution_count": null,
      "metadata": {
        "id": "plAZjdkG0FdV",
        "vscode": {
          "languageId": "python"
        }
      },
      "outputs": [],
      "source": [
        "from sklearn.metrics import accuracy_score\n",
        "\n",
        "def compute_metrics(result):\n",
        "    labels = result.label_ids\n",
        "    preds = result.predictions.argmax(-1)\n",
        "    acc = accuracy_score(labels, preds)\n",
        "    return {\n",
        "        \"accuracy\": acc,\n",
        "    }\n",
        "\n",
        "print(\"Finish\")"
      ]
    },
    {
      "cell_type": "markdown",
      "metadata": {
        "id": "MjLqAVy7z0T3"
      },
      "source": [
        "### Trainerの設定\n",
        "Trainerクラス、およびTrainingArgumentsクラスを使用して、訓練を行うTrainerの設定を行います。  \n",
        "https://huggingface.co/transformers/main_classes/trainer.html  \n",
        "https://huggingface.co/transformers/main_classes/trainer.html#trainingarguments  "
      ]
    },
    {
      "cell_type": "code",
      "execution_count": null,
      "metadata": {
        "id": "ZhaexaAOI3kV",
        "vscode": {
          "languageId": "python"
        }
      },
      "outputs": [],
      "source": [
        "from transformers import Trainer, TrainingArguments\n",
        "\n",
        "training_args = TrainingArguments(\n",
        "    output_dir = \"./results\",\n",
        "    num_train_epochs = 2,\n",
        "    per_device_train_batch_size = 8,\n",
        "    per_device_eval_batch_size = 32,\n",
        "    warmup_steps = 500,  # 学習係数が0からこのステップ数で上昇\n",
        "    weight_decay = 0.01,  # 重みの減衰率\n",
        "    # evaluate_during_training = True,  # ここの記述はバージョンによっては必要ありません\n",
        "    logging_dir = \"./logs\",\n",
        "    save_total_limit=1,  # limit the total amount of checkpoints. Deletes the older checkpoints.\n",
        ")\n",
        "\n",
        "trainer = Trainer(\n",
        "    model = sc_model,\n",
        "    args = training_args,\n",
        "    compute_metrics = compute_metrics,\n",
        "    train_dataset = train_data,\n",
        "    eval_dataset = test_data,\n",
        ")\n",
        "\n",
        "print(\"Finish\")"
      ]
    },
    {
      "cell_type": "markdown",
      "metadata": {
        "id": "o0F5nXKpSCnS"
      },
      "source": [
        "### モデルの訓練\n",
        "設定に基づきファインチューニングを行います。  \n",
        "40分程度かかる。 colaboratory 32分かかった　sagemaker"
      ]
    },
    {
      "cell_type": "code",
      "execution_count": null,
      "metadata": {
        "id": "29fkN4UcI4jm",
        "vscode": {
          "languageId": "python"
        }
      },
      "outputs": [],
      "source": [
        "trainer.train()\n",
        "\n",
        "print(\"Finish\")"
      ]
    },
    {
      "cell_type": "markdown",
      "metadata": {
        "id": "c76zhkQVS2xZ"
      },
      "source": [
        "### モデルの評価\n",
        "Trainerの`evaluate()`メソッドによりモデルを評価します。  \n",
        "２分程度かかる"
      ]
    },
    {
      "cell_type": "code",
      "execution_count": null,
      "metadata": {
        "id": "wIgke21zI6l_",
        "vscode": {
          "languageId": "python"
        }
      },
      "outputs": [],
      "source": [
        "trainer.evaluate()\n",
        "\n",
        "print(\"Finish\")"
      ]
    },
    {
      "cell_type": "markdown",
      "metadata": {
        "id": "6EFwqzLRUhaB"
      },
      "source": [
        "### TensorBoardによる結果の表示\n",
        "TensorBoardを使って、logsフォルダに格納された学習過程を表示します。"
      ]
    },
    {
      "cell_type": "code",
      "execution_count": null,
      "metadata": {
        "id": "1vv39tuDJq5n",
        "vscode": {
          "languageId": "python"
        }
      },
      "outputs": [],
      "source": [
        "%load_ext tensorboard\n",
        "%tensorboard --logdir logs"
      ]
    },
    {
      "cell_type": "markdown",
      "metadata": {
        "id": "a-BscHjHxs0H"
      },
      "source": [
        "### モデルの保存\n",
        "訓練済みのモデルを保存します。"
      ]
    },
    {
      "cell_type": "code",
      "execution_count": null,
      "metadata": {
        "id": "UvwVcXuIyH7V",
        "vscode": {
          "languageId": "python"
        }
      },
      "outputs": [],
      "source": [
        "# data_path = \"/content/drive/My Drive/bert_nlp/section_5/\"\n",
        "data_path = \"./\"\n",
        "\n",
        "sc_model.save_pretrained(data_path)\n",
        "tokenizer.save_pretrained(data_path)\n",
        "\n",
        "print(\"Finish\")"
      ]
    },
    {
      "cell_type": "markdown",
      "metadata": {
        "id": "9Rk15Hl0lns9"
      },
      "source": [
        "# 以降は削除予定"
      ]
    },
    {
      "cell_type": "markdown",
      "metadata": {
        "id": "zZuJCZBK0RJx"
      },
      "source": [
        "## モデルの読み込み\n",
        "保存済みのモデルを読み込みます。"
      ]
    },
    {
      "cell_type": "code",
      "execution_count": null,
      "metadata": {
        "id": "ZWtcQRuP0X45",
        "vscode": {
          "languageId": "python"
        }
      },
      "outputs": [],
      "source": [
        "loaded_model = BertForSequenceClassification.from_pretrained(data_path)\n",
        "loaded_model.cuda()\n",
        "loaded_tokenizer = BertJapaneseTokenizer.from_pretrained(data_path)"
      ]
    },
    {
      "cell_type": "markdown",
      "metadata": {
        "id": "Rq2zZ99R3Hs7"
      },
      "source": [
        "## 日本語ニュースの分類\n",
        "読み込んだモデルを使ってニュースを分類します。"
      ]
    },
    {
      "cell_type": "code",
      "execution_count": null,
      "metadata": {
        "id": "dFOIjY511WVK",
        "vscode": {
          "languageId": "python"
        }
      },
      "outputs": [],
      "source": [
        "import glob  # ファイルの取得に使用\n",
        "import os\n",
        "import torch\n",
        "\n",
        "category = \"movie-enter\"\n",
        "sample_path = \"/content/drive/My Drive/bert_nlp/section_5/text/\"  # フォルダの場所を指定\n",
        "files = glob.glob(sample_path + category + \"/*.txt\")  # ファイルの一覧\n",
        "file = files[12]  # 適当なニュース\n",
        "\n",
        "dir_files = os.listdir(path=sample_path)\n",
        "dirs = [f for f in dir_files if os.path.isdir(os.path.join(sample_path, f))]  # ディレクトリ一覧\n",
        "\n",
        "with open(file, \"r\") as f:\n",
        "    sample_text = f.readlines()[3:]\n",
        "    sample_text = \"\".join(sample_text)\n",
        "    sample_text = sample_text.translate(str.maketrans({\"\\n\":\"\", \"\\t\":\"\", \"\\r\":\"\", \"\\u3000\":\"\"}))\n",
        "\n",
        "print(sample_text)\n",
        "\n",
        "max_length = 512\n",
        "words = loaded_tokenizer.tokenize(sample_text)\n",
        "word_ids = loaded_tokenizer.convert_tokens_to_ids(words)  # 単語をインデックスに変換\n",
        "word_tensor = torch.tensor([word_ids[:max_length]])  # テンソルに変換\n",
        "\n",
        "x = word_tensor.cuda()  # GPU対応\n",
        "y = loaded_model(x)  # 予測\n",
        "pred = y[0].argmax(-1)  # 最大値のインデックス\n",
        "print(\"result:\", dirs[pred])"
      ]
    }
  ],
  "metadata": {
    "accelerator": "GPU",
    "colab": {
      "name": "01_news_classification.ipynb",
      "provenance": [],
      "toc_visible": true,
      "include_colab_link": true
    },
    "kernelspec": {
      "display_name": "Python 3",
      "name": "python3"
    }
  },
  "nbformat": 4,
  "nbformat_minor": 0
}