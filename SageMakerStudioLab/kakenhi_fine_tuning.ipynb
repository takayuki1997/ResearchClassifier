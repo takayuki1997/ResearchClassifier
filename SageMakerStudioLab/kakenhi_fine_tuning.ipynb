{
  "cells": [
    {
      "cell_type": "markdown",
      "metadata": {
        "id": "view-in-github",
        "colab_type": "text"
      },
      "source": [
        "<a href=\"https://colab.research.google.com/github/takayuki1997/ResearchClassifier/blob/main/SageMakerStudioLab/kakenhi_fine_tuning.ipynb\" target=\"_parent\"><img src=\"https://colab.research.google.com/assets/colab-badge.svg\" alt=\"Open In Colab\"/></a>"
      ]
    },
    {
      "cell_type": "markdown",
      "metadata": {
        "id": "vrgegdDZjf8E"
      },
      "source": [
        "# 学術テキストの分類\n",
        "日本語のデータセットでBERTのモデルをファインチューニングし、学術分野の分類を行います。  \n",
        "『基盤BCで、2019年度から2021年度採択の４年分』  \n",
        "\"研究開始時の研究の概要\"の文字列を使う。  \n",
        "\n",
        "\n",
        "オリジナルの課題数： 80272  \n",
        "概要が空白の課題数：   301  \n",
        "空白を除いた課題数： 79971\n",
        "\n",
        "日本語＋英語： 79971  \n",
        "英語　　　　：  1112  \n",
        "日本語　　　： 78859  \n",
        "\n",
        "小区分がブランク：    58  \n",
        "小区分の設定あり： 78801  \n",
        "\n",
        "重複削除前の項目数： 323  \n",
        "重複削除後の項目数： 315  \n",
        "\n",
        "統合前のデータ数： 78801  \n",
        "統合したデータ数： 80913  \n",
        "トレーニングデータ数： 60684  \n",
        "テストデータ数　　　： 20229  \n"
      ]
    },
    {
      "cell_type": "markdown",
      "metadata": {
        "id": "m6moZnLFkFwr"
      },
      "source": [
        "### ライブラリのインストール\n",
        "\n",
        "> 引用を追加\n",
        "\n",
        "\n",
        "SageMakerでは初回だけで良い（Google colaboratoryでは毎回）  \n",
        "ライブラリTransformers、およびnlpをインストールします。  "
      ]
    },
    {
      "cell_type": "code",
      "execution_count": 1,
      "metadata": {
        "vscode": {
          "languageId": "python"
        },
        "id": "KUseWNDhlnsy",
        "outputId": "d78eb4e3-53f9-48f6-cf31-405b3972a2a1",
        "colab": {
          "base_uri": "https://localhost:8080/"
        }
      },
      "outputs": [
        {
          "output_type": "stream",
          "name": "stdout",
          "text": [
            "Requirement already satisfied: pip in /usr/local/lib/python3.10/dist-packages (24.1.2)\n",
            "Collecting pip\n",
            "  Downloading pip-24.3.1-py3-none-any.whl.metadata (3.7 kB)\n",
            "Downloading pip-24.3.1-py3-none-any.whl (1.8 MB)\n",
            "\u001b[2K   \u001b[90m━━━━━━━━━━━━━━━━━━━━━━━━━━━━━━━━━━━━━━━━\u001b[0m \u001b[32m1.8/1.8 MB\u001b[0m \u001b[31m23.0 MB/s\u001b[0m eta \u001b[36m0:00:00\u001b[0m\n",
            "\u001b[?25hInstalling collected packages: pip\n",
            "  Attempting uninstall: pip\n",
            "    Found existing installation: pip 24.1.2\n",
            "    Uninstalling pip-24.1.2:\n",
            "      Successfully uninstalled pip-24.1.2\n",
            "Successfully installed pip-24.3.1\n"
          ]
        }
      ],
      "source": [
        "# pipのアップデート（たまに走らせても良いかも）\n",
        "# !pip list\n",
        "!python -m pip install --upgrade pip"
      ]
    },
    {
      "cell_type": "code",
      "execution_count": 2,
      "metadata": {
        "id": "7qg6t5nnBjqs",
        "vscode": {
          "languageId": "python"
        },
        "outputId": "9875f14d-bf2f-4612-e867-6049ef69a704",
        "colab": {
          "base_uri": "https://localhost:8080/"
        }
      },
      "outputs": [
        {
          "output_type": "stream",
          "name": "stdout",
          "text": [
            "Collecting nlp\n",
            "  Downloading nlp-0.4.0-py3-none-any.whl.metadata (5.0 kB)\n",
            "Collecting datasets\n",
            "  Downloading datasets-3.1.0-py3-none-any.whl.metadata (20 kB)\n",
            "Collecting fugashi\n",
            "  Downloading fugashi-1.4.0-cp310-cp310-manylinux_2_17_x86_64.manylinux2014_x86_64.whl.metadata (6.9 kB)\n",
            "Collecting ipadic\n",
            "  Downloading ipadic-1.0.0.tar.gz (13.4 MB)\n",
            "\u001b[2K     \u001b[90m━━━━━━━━━━━━━━━━━━━━━━━━━━━━━━━━━━━━━━━━\u001b[0m \u001b[32m13.4/13.4 MB\u001b[0m \u001b[31m54.4 MB/s\u001b[0m eta \u001b[36m0:00:00\u001b[0m\n",
            "\u001b[?25h  Preparing metadata (setup.py) ... \u001b[?25l\u001b[?25hdone\n",
            "Collecting unidic-lite\n",
            "  Downloading unidic-lite-1.0.8.tar.gz (47.4 MB)\n",
            "\u001b[2K     \u001b[90m━━━━━━━━━━━━━━━━━━━━━━━━━━━━━━━━━━━━━━━━\u001b[0m \u001b[32m47.4/47.4 MB\u001b[0m \u001b[31m40.1 MB/s\u001b[0m eta \u001b[36m0:00:00\u001b[0m\n",
            "\u001b[?25h  Preparing metadata (setup.py) ... \u001b[?25l\u001b[?25hdone\n",
            "Requirement already satisfied: numpy in /usr/local/lib/python3.10/dist-packages (from nlp) (1.26.4)\n",
            "Requirement already satisfied: pyarrow>=0.16.0 in /usr/local/lib/python3.10/dist-packages (from nlp) (17.0.0)\n",
            "Collecting dill (from nlp)\n",
            "  Downloading dill-0.3.9-py3-none-any.whl.metadata (10 kB)\n",
            "Requirement already satisfied: pandas in /usr/local/lib/python3.10/dist-packages (from nlp) (2.2.2)\n",
            "Requirement already satisfied: requests>=2.19.0 in /usr/local/lib/python3.10/dist-packages (from nlp) (2.32.3)\n",
            "Requirement already satisfied: tqdm>=4.27 in /usr/local/lib/python3.10/dist-packages (from nlp) (4.66.6)\n",
            "Requirement already satisfied: filelock in /usr/local/lib/python3.10/dist-packages (from nlp) (3.16.1)\n",
            "Collecting xxhash (from nlp)\n",
            "  Downloading xxhash-3.5.0-cp310-cp310-manylinux_2_17_x86_64.manylinux2014_x86_64.whl.metadata (12 kB)\n",
            "Collecting dill (from nlp)\n",
            "  Downloading dill-0.3.8-py3-none-any.whl.metadata (10 kB)\n",
            "Collecting multiprocess<0.70.17 (from datasets)\n",
            "  Downloading multiprocess-0.70.16-py310-none-any.whl.metadata (7.2 kB)\n",
            "Collecting fsspec<=2024.9.0,>=2023.1.0 (from fsspec[http]<=2024.9.0,>=2023.1.0->datasets)\n",
            "  Downloading fsspec-2024.9.0-py3-none-any.whl.metadata (11 kB)\n",
            "Requirement already satisfied: aiohttp in /usr/local/lib/python3.10/dist-packages (from datasets) (3.11.9)\n",
            "Requirement already satisfied: huggingface-hub>=0.23.0 in /usr/local/lib/python3.10/dist-packages (from datasets) (0.26.3)\n",
            "Requirement already satisfied: packaging in /usr/local/lib/python3.10/dist-packages (from datasets) (24.2)\n",
            "Requirement already satisfied: pyyaml>=5.1 in /usr/local/lib/python3.10/dist-packages (from datasets) (6.0.2)\n",
            "Requirement already satisfied: aiohappyeyeballs>=2.3.0 in /usr/local/lib/python3.10/dist-packages (from aiohttp->datasets) (2.4.4)\n",
            "Requirement already satisfied: aiosignal>=1.1.2 in /usr/local/lib/python3.10/dist-packages (from aiohttp->datasets) (1.3.1)\n",
            "Requirement already satisfied: async-timeout<6.0,>=4.0 in /usr/local/lib/python3.10/dist-packages (from aiohttp->datasets) (4.0.3)\n",
            "Requirement already satisfied: attrs>=17.3.0 in /usr/local/lib/python3.10/dist-packages (from aiohttp->datasets) (24.2.0)\n",
            "Requirement already satisfied: frozenlist>=1.1.1 in /usr/local/lib/python3.10/dist-packages (from aiohttp->datasets) (1.5.0)\n",
            "Requirement already satisfied: multidict<7.0,>=4.5 in /usr/local/lib/python3.10/dist-packages (from aiohttp->datasets) (6.1.0)\n",
            "Requirement already satisfied: propcache>=0.2.0 in /usr/local/lib/python3.10/dist-packages (from aiohttp->datasets) (0.2.1)\n",
            "Requirement already satisfied: yarl<2.0,>=1.17.0 in /usr/local/lib/python3.10/dist-packages (from aiohttp->datasets) (1.18.3)\n",
            "Requirement already satisfied: typing-extensions>=3.7.4.3 in /usr/local/lib/python3.10/dist-packages (from huggingface-hub>=0.23.0->datasets) (4.12.2)\n",
            "Requirement already satisfied: charset-normalizer<4,>=2 in /usr/local/lib/python3.10/dist-packages (from requests>=2.19.0->nlp) (3.4.0)\n",
            "Requirement already satisfied: idna<4,>=2.5 in /usr/local/lib/python3.10/dist-packages (from requests>=2.19.0->nlp) (3.10)\n",
            "Requirement already satisfied: urllib3<3,>=1.21.1 in /usr/local/lib/python3.10/dist-packages (from requests>=2.19.0->nlp) (2.2.3)\n",
            "Requirement already satisfied: certifi>=2017.4.17 in /usr/local/lib/python3.10/dist-packages (from requests>=2.19.0->nlp) (2024.8.30)\n",
            "Requirement already satisfied: python-dateutil>=2.8.2 in /usr/local/lib/python3.10/dist-packages (from pandas->nlp) (2.8.2)\n",
            "Requirement already satisfied: pytz>=2020.1 in /usr/local/lib/python3.10/dist-packages (from pandas->nlp) (2024.2)\n",
            "Requirement already satisfied: tzdata>=2022.7 in /usr/local/lib/python3.10/dist-packages (from pandas->nlp) (2024.2)\n",
            "Requirement already satisfied: six>=1.5 in /usr/local/lib/python3.10/dist-packages (from python-dateutil>=2.8.2->pandas->nlp) (1.16.0)\n",
            "Downloading nlp-0.4.0-py3-none-any.whl (1.7 MB)\n",
            "\u001b[2K   \u001b[90m━━━━━━━━━━━━━━━━━━━━━━━━━━━━━━━━━━━━━━━━\u001b[0m \u001b[32m1.7/1.7 MB\u001b[0m \u001b[31m42.3 MB/s\u001b[0m eta \u001b[36m0:00:00\u001b[0m\n",
            "\u001b[?25hDownloading datasets-3.1.0-py3-none-any.whl (480 kB)\n",
            "Downloading fugashi-1.4.0-cp310-cp310-manylinux_2_17_x86_64.manylinux2014_x86_64.whl (671 kB)\n",
            "\u001b[2K   \u001b[90m━━━━━━━━━━━━━━━━━━━━━━━━━━━━━━━━━━━━━━━━\u001b[0m \u001b[32m671.7/671.7 kB\u001b[0m \u001b[31m30.5 MB/s\u001b[0m eta \u001b[36m0:00:00\u001b[0m\n",
            "\u001b[?25hDownloading dill-0.3.8-py3-none-any.whl (116 kB)\n",
            "Downloading fsspec-2024.9.0-py3-none-any.whl (179 kB)\n",
            "Downloading multiprocess-0.70.16-py310-none-any.whl (134 kB)\n",
            "Downloading xxhash-3.5.0-cp310-cp310-manylinux_2_17_x86_64.manylinux2014_x86_64.whl (194 kB)\n",
            "Building wheels for collected packages: ipadic, unidic-lite\n",
            "  Building wheel for ipadic (setup.py) ... \u001b[?25l\u001b[?25hdone\n",
            "  Created wheel for ipadic: filename=ipadic-1.0.0-py3-none-any.whl size=13556704 sha256=3af97f549560849783adcdc833cf911840de4364c7d6f522c2d13f2ae8c5cf3a\n",
            "  Stored in directory: /root/.cache/pip/wheels/5b/ea/e3/2f6e0860a327daba3b030853fce4483ed37468bbf1101c59c3\n",
            "  Building wheel for unidic-lite (setup.py) ... \u001b[?25l\u001b[?25hdone\n",
            "  Created wheel for unidic-lite: filename=unidic_lite-1.0.8-py3-none-any.whl size=47658818 sha256=50190999b11e46de1ec94fb60f484acdb269648af8c6e1e7ffbf872c1d980360\n",
            "  Stored in directory: /root/.cache/pip/wheels/89/e8/68/f9ac36b8cc6c8b3c96888cd57434abed96595d444f42243853\n",
            "Successfully built ipadic unidic-lite\n",
            "Installing collected packages: unidic-lite, ipadic, xxhash, fugashi, fsspec, dill, multiprocess, nlp, datasets\n",
            "  Attempting uninstall: fsspec\n",
            "    Found existing installation: fsspec 2024.10.0\n",
            "    Uninstalling fsspec-2024.10.0:\n",
            "      Successfully uninstalled fsspec-2024.10.0\n",
            "\u001b[31mERROR: pip's dependency resolver does not currently take into account all the packages that are installed. This behaviour is the source of the following dependency conflicts.\n",
            "gcsfs 2024.10.0 requires fsspec==2024.10.0, but you have fsspec 2024.9.0 which is incompatible.\u001b[0m\u001b[31m\n",
            "\u001b[0mSuccessfully installed datasets-3.1.0 dill-0.3.8 fsspec-2024.9.0 fugashi-1.4.0 ipadic-1.0.0 multiprocess-0.70.16 nlp-0.4.0 unidic-lite-1.0.8 xxhash-3.5.0\n"
          ]
        }
      ],
      "source": [
        "# ライブラリのインストール\n",
        "\n",
        "# # !pip install torch\n",
        "# # !pip install transformers\n",
        "# !pip install nlp\n",
        "# !pip install datasets\n",
        "# !pip install fugashi\n",
        "# !pip install ipadic\n",
        "# # !pip install scikit-learn\n",
        "# # !pip install matplotlib\n",
        "# !pip install tensorboard\n",
        "# !pip install unidic-lite\n",
        "\n",
        "!pip install nlp datasets fugashi ipadic unidic-lite\n"
      ]
    },
    {
      "cell_type": "markdown",
      "metadata": {
        "id": "KcHOX9LyZc2g"
      },
      "source": [
        "### Google ドライブとの連携  \n",
        "以下のコードを実行し、認証コードを使用してGoogle ドライブをマウントします。"
      ]
    },
    {
      "cell_type": "code",
      "execution_count": 3,
      "metadata": {
        "id": "7h7BA67Ed5wT",
        "vscode": {
          "languageId": "python"
        },
        "outputId": "2eada880-7749-4f16-aa56-9239f11935cf",
        "colab": {
          "base_uri": "https://localhost:8080/"
        }
      },
      "outputs": [
        {
          "output_type": "stream",
          "name": "stdout",
          "text": [
            "Mounted at /content/drive/\n"
          ]
        }
      ],
      "source": [
        "from google.colab import drive\n",
        "drive.mount(\"/content/drive/\")"
      ]
    },
    {
      "cell_type": "markdown",
      "metadata": {
        "id": "zliYGLC5g0h2"
      },
      "source": [
        "## ファインチューニング用データの読み込み＆書き出し\n",
        "### 科研費データの読み込み、整理\n",
        "科研費データベースからダウンロードしたcsvファイルを直接読む  \n",
        "必要なデータを取り出す。"
      ]
    },
    {
      "cell_type": "code",
      "source": [
        "import pandas as pd\n",
        "import os\n",
        "\n",
        "# 科研費データベースからダウンロードした未加工のcsvファイルを指定\n",
        "# 基盤BC　2019年度～2023年度の5年分（2018年度は”研究開始時の研究の概要”が無い。2024年度は後半の検証に用いる）\n",
        "open_original_csv = \"KibanBC_2019-2023.csv\"\n",
        "\n",
        "data_path = \"/content/drive/My Drive/ResearchClassifier/data/\" # Google colaboratory\n",
        "\n",
        "# csvファイルを開く\n",
        "# raw_data = pd.read_csv(data_path + open_original_csv) # dtype=\"object\"必要？\n",
        "raw_data = pd.read_csv(os.path.join(data_path, open_original_csv))\n",
        "\n",
        "# 読み込んだデータをチェック\n",
        "raw_data.info()"
      ],
      "metadata": {
        "id": "5FUPThP4cUIt",
        "outputId": "2a2ef700-2968-44ba-a897-cc2989e1f08a",
        "colab": {
          "base_uri": "https://localhost:8080/"
        }
      },
      "execution_count": 4,
      "outputs": [
        {
          "output_type": "stream",
          "name": "stderr",
          "text": [
            "<ipython-input-4-7e4a58e72cb4>:12: DtypeWarning: Columns (12,29,30) have mixed types. Specify dtype option on import or set low_memory=False.\n",
            "  raw_data = pd.read_csv(os.path.join(data_path, open_original_csv))\n"
          ]
        },
        {
          "output_type": "stream",
          "name": "stdout",
          "text": [
            "<class 'pandas.core.frame.DataFrame'>\n",
            "RangeIndex: 80272 entries, 0 to 80271\n",
            "Data columns (total 55 columns):\n",
            " #   Column            Non-Null Count  Dtype  \n",
            "---  ------            --------------  -----  \n",
            " 0   研究課題名             79805 non-null  object \n",
            " 1   研究課題名 (英文)        42287 non-null  object \n",
            " 2   研究課題/領域番号         80272 non-null  object \n",
            " 3   研究期間 (年度)         80272 non-null  object \n",
            " 4   研究代表者             80272 non-null  object \n",
            " 5   研究分担者             42727 non-null  object \n",
            " 6   連携研究者             0 non-null      float64\n",
            " 7   研究協力者             0 non-null      float64\n",
            " 8   特別研究員             0 non-null      float64\n",
            " 9   外国人特別研究員          0 non-null      float64\n",
            " 10  受入研究者             0 non-null      float64\n",
            " 11  キーワード             79971 non-null  object \n",
            " 12  研究分野              58 non-null     object \n",
            " 13  審査区分              80214 non-null  object \n",
            " 14  研究種目              80272 non-null  object \n",
            " 15  研究機関              80272 non-null  object \n",
            " 16  応募区分              80272 non-null  object \n",
            " 17  総配分額              80272 non-null  int64  \n",
            " 18  総配分額 (直接経費)       80272 non-null  int64  \n",
            " 19  総配分額 (間接経費)       80272 non-null  int64  \n",
            " 20  各年度配分額            80272 non-null  object \n",
            " 21  各年度配分額 (直接経費)     80272 non-null  object \n",
            " 22  各年度配分額 (間接経費)     80272 non-null  object \n",
            " 23  現在までの達成度 (区分コード)  44181 non-null  float64\n",
            " 24  現在までの達成度 (区分)     44181 non-null  object \n",
            " 25  理由                44181 non-null  object \n",
            " 26  研究開始時の研究の概要       79971 non-null  object \n",
            " 27  研究概要              0 non-null      float64\n",
            " 28  研究概要 (英文)         0 non-null      float64\n",
            " 29  研究成果の概要           17484 non-null  object \n",
            " 30  研究成果の概要 (英文)      17484 non-null  object \n",
            " 31  研究実績の概要           45176 non-null  object \n",
            " 32  現在までの達成度 (段落)     44317 non-null  object \n",
            " 33  今後の研究の推進方策        44317 non-null  object \n",
            " 34  次年度の研究費の使用計画      0 non-null      float64\n",
            " 35  次年度使用額が生じた理由      0 non-null      float64\n",
            " 36  次年度使用額の使用計画       0 non-null      float64\n",
            " 37  自由記述の分野           0 non-null      float64\n",
            " 38  評価記号              0 non-null      float64\n",
            " 39  備考                0 non-null      float64\n",
            " 40  国際共同研究            80272 non-null  int64  \n",
            " 41  学会・シンポジウム開催       80272 non-null  int64  \n",
            " 42  雑誌論文              80272 non-null  int64  \n",
            " 43  雑誌論文 (国際共著)       80272 non-null  int64  \n",
            " 44  雑誌論文 (査読あり)       80272 non-null  int64  \n",
            " 45  雑誌論文 (オープンアクセス)   80272 non-null  int64  \n",
            " 46  学会発表              80272 non-null  int64  \n",
            " 47  学会発表 (国際学会)       80272 non-null  int64  \n",
            " 48  学会発表 (招待講演)       80272 non-null  int64  \n",
            " 49  図書                80272 non-null  int64  \n",
            " 50  プレス/新聞発表          80272 non-null  int64  \n",
            " 51  備考 (成果物)          80272 non-null  int64  \n",
            " 52  産業財産権             80272 non-null  int64  \n",
            " 53  産業財産権 (外国)        80272 non-null  int64  \n",
            " 54  文献書誌              80272 non-null  int64  \n",
            "dtypes: float64(14), int64(18), object(23)\n",
            "memory usage: 33.7+ MB\n"
          ]
        }
      ]
    },
    {
      "cell_type": "code",
      "execution_count": 7,
      "metadata": {
        "id": "jPV3qCYs9STS",
        "vscode": {
          "languageId": "python"
        },
        "outputId": "1e10f2d2-e30e-41e8-8c1f-be285d6b2e46",
        "colab": {
          "base_uri": "https://localhost:8080/",
          "height": 615
        }
      },
      "outputs": [
        {
          "output_type": "stream",
          "name": "stdout",
          "text": [
            "オリジナルの課題数： 80272\n",
            "概要が空白の課題数：   301\n",
            "空白を除いた課題数： 79971\n",
            "\n",
            "日本語＋英語： 79971\n",
            "英語　　　　：  1112\n",
            "日本語　　　： 78859\n",
            "\n",
            "小区分がブランク：    58\n",
            "小区分の設定あり： 78801\n",
            "\n"
          ]
        },
        {
          "output_type": "execute_result",
          "data": {
            "text/plain": [
              "             ID  ShoKubun                                               Abst\n",
              "12     18H01093     10030  女性のライフサイクルで、周産期（妊娠中、産後）はさまざまなメンタルヘルスの問題が出現し、その...\n",
              "13     18K03035     10020  国際介護とは、母国の老親の介護に通う場合（国際遠距離介護）及び、母国から老親を成人の移住した...\n",
              "14     18K04357     22030  本研究は微生物を用いた地盤改良工法の実用化に向けて、地盤改良工法中の菌相の変化を培養液に添加...\n",
              "15     18K06040     42040  本研究では、遺伝子治療効果を示す条件を簡便、且つ効率的に検出可能な独自のin vivoゲノム...\n",
              "16     18K07561     52030  研究の説明・同意が得られた上で、健常者においてfMRIニューロフィードバック法を行い、制御可...\n",
              "...         ...       ...                                                ...\n",
              "80267  23K28476     90150  本研究の目的は検査員の代わりにAIがシミュレータ上の運転行動から運転技能が低い高齢ドライバー...\n",
              "80268  23K28477     90150  看護師のタスクの一つに，点滴などのために前腕に針を刺す行為があるが，新人などではその成功率が...\n",
              "80269  23K28478     90150  本研究は，以下の6分野からなる．1.4次元CTでの器官と食塊の領域分割，2.実測などによる食...\n",
              "80270  23K28479     90150  重度肢体不自由者に発生する慢性的な下肢の「むくみ」，すなわち浮腫が体調評価と関連している可能...\n",
              "80271  24K08951     39060  本研究では，凍結保存が困難な菌根性きのこ種（以下，単に菌根菌）の菌株を対象に，新たな遺伝資源...\n",
              "\n",
              "[78801 rows x 3 columns]"
            ],
            "text/html": [
              "\n",
              "  <div id=\"df-841ca221-32eb-41da-86f0-2deba916c6de\" class=\"colab-df-container\">\n",
              "    <div>\n",
              "<style scoped>\n",
              "    .dataframe tbody tr th:only-of-type {\n",
              "        vertical-align: middle;\n",
              "    }\n",
              "\n",
              "    .dataframe tbody tr th {\n",
              "        vertical-align: top;\n",
              "    }\n",
              "\n",
              "    .dataframe thead th {\n",
              "        text-align: right;\n",
              "    }\n",
              "</style>\n",
              "<table border=\"1\" class=\"dataframe\">\n",
              "  <thead>\n",
              "    <tr style=\"text-align: right;\">\n",
              "      <th></th>\n",
              "      <th>ID</th>\n",
              "      <th>ShoKubun</th>\n",
              "      <th>Abst</th>\n",
              "    </tr>\n",
              "  </thead>\n",
              "  <tbody>\n",
              "    <tr>\n",
              "      <th>12</th>\n",
              "      <td>18H01093</td>\n",
              "      <td>10030</td>\n",
              "      <td>女性のライフサイクルで、周産期（妊娠中、産後）はさまざまなメンタルヘルスの問題が出現し、その...</td>\n",
              "    </tr>\n",
              "    <tr>\n",
              "      <th>13</th>\n",
              "      <td>18K03035</td>\n",
              "      <td>10020</td>\n",
              "      <td>国際介護とは、母国の老親の介護に通う場合（国際遠距離介護）及び、母国から老親を成人の移住した...</td>\n",
              "    </tr>\n",
              "    <tr>\n",
              "      <th>14</th>\n",
              "      <td>18K04357</td>\n",
              "      <td>22030</td>\n",
              "      <td>本研究は微生物を用いた地盤改良工法の実用化に向けて、地盤改良工法中の菌相の変化を培養液に添加...</td>\n",
              "    </tr>\n",
              "    <tr>\n",
              "      <th>15</th>\n",
              "      <td>18K06040</td>\n",
              "      <td>42040</td>\n",
              "      <td>本研究では、遺伝子治療効果を示す条件を簡便、且つ効率的に検出可能な独自のin vivoゲノム...</td>\n",
              "    </tr>\n",
              "    <tr>\n",
              "      <th>16</th>\n",
              "      <td>18K07561</td>\n",
              "      <td>52030</td>\n",
              "      <td>研究の説明・同意が得られた上で、健常者においてfMRIニューロフィードバック法を行い、制御可...</td>\n",
              "    </tr>\n",
              "    <tr>\n",
              "      <th>...</th>\n",
              "      <td>...</td>\n",
              "      <td>...</td>\n",
              "      <td>...</td>\n",
              "    </tr>\n",
              "    <tr>\n",
              "      <th>80267</th>\n",
              "      <td>23K28476</td>\n",
              "      <td>90150</td>\n",
              "      <td>本研究の目的は検査員の代わりにAIがシミュレータ上の運転行動から運転技能が低い高齢ドライバー...</td>\n",
              "    </tr>\n",
              "    <tr>\n",
              "      <th>80268</th>\n",
              "      <td>23K28477</td>\n",
              "      <td>90150</td>\n",
              "      <td>看護師のタスクの一つに，点滴などのために前腕に針を刺す行為があるが，新人などではその成功率が...</td>\n",
              "    </tr>\n",
              "    <tr>\n",
              "      <th>80269</th>\n",
              "      <td>23K28478</td>\n",
              "      <td>90150</td>\n",
              "      <td>本研究は，以下の6分野からなる．1.4次元CTでの器官と食塊の領域分割，2.実測などによる食...</td>\n",
              "    </tr>\n",
              "    <tr>\n",
              "      <th>80270</th>\n",
              "      <td>23K28479</td>\n",
              "      <td>90150</td>\n",
              "      <td>重度肢体不自由者に発生する慢性的な下肢の「むくみ」，すなわち浮腫が体調評価と関連している可能...</td>\n",
              "    </tr>\n",
              "    <tr>\n",
              "      <th>80271</th>\n",
              "      <td>24K08951</td>\n",
              "      <td>39060</td>\n",
              "      <td>本研究では，凍結保存が困難な菌根性きのこ種（以下，単に菌根菌）の菌株を対象に，新たな遺伝資源...</td>\n",
              "    </tr>\n",
              "  </tbody>\n",
              "</table>\n",
              "<p>78801 rows × 3 columns</p>\n",
              "</div>\n",
              "    <div class=\"colab-df-buttons\">\n",
              "\n",
              "  <div class=\"colab-df-container\">\n",
              "    <button class=\"colab-df-convert\" onclick=\"convertToInteractive('df-841ca221-32eb-41da-86f0-2deba916c6de')\"\n",
              "            title=\"Convert this dataframe to an interactive table.\"\n",
              "            style=\"display:none;\">\n",
              "\n",
              "  <svg xmlns=\"http://www.w3.org/2000/svg\" height=\"24px\" viewBox=\"0 -960 960 960\">\n",
              "    <path d=\"M120-120v-720h720v720H120Zm60-500h600v-160H180v160Zm220 220h160v-160H400v160Zm0 220h160v-160H400v160ZM180-400h160v-160H180v160Zm440 0h160v-160H620v160ZM180-180h160v-160H180v160Zm440 0h160v-160H620v160Z\"/>\n",
              "  </svg>\n",
              "    </button>\n",
              "\n",
              "  <style>\n",
              "    .colab-df-container {\n",
              "      display:flex;\n",
              "      gap: 12px;\n",
              "    }\n",
              "\n",
              "    .colab-df-convert {\n",
              "      background-color: #E8F0FE;\n",
              "      border: none;\n",
              "      border-radius: 50%;\n",
              "      cursor: pointer;\n",
              "      display: none;\n",
              "      fill: #1967D2;\n",
              "      height: 32px;\n",
              "      padding: 0 0 0 0;\n",
              "      width: 32px;\n",
              "    }\n",
              "\n",
              "    .colab-df-convert:hover {\n",
              "      background-color: #E2EBFA;\n",
              "      box-shadow: 0px 1px 2px rgba(60, 64, 67, 0.3), 0px 1px 3px 1px rgba(60, 64, 67, 0.15);\n",
              "      fill: #174EA6;\n",
              "    }\n",
              "\n",
              "    .colab-df-buttons div {\n",
              "      margin-bottom: 4px;\n",
              "    }\n",
              "\n",
              "    [theme=dark] .colab-df-convert {\n",
              "      background-color: #3B4455;\n",
              "      fill: #D2E3FC;\n",
              "    }\n",
              "\n",
              "    [theme=dark] .colab-df-convert:hover {\n",
              "      background-color: #434B5C;\n",
              "      box-shadow: 0px 1px 3px 1px rgba(0, 0, 0, 0.15);\n",
              "      filter: drop-shadow(0px 1px 2px rgba(0, 0, 0, 0.3));\n",
              "      fill: #FFFFFF;\n",
              "    }\n",
              "  </style>\n",
              "\n",
              "    <script>\n",
              "      const buttonEl =\n",
              "        document.querySelector('#df-841ca221-32eb-41da-86f0-2deba916c6de button.colab-df-convert');\n",
              "      buttonEl.style.display =\n",
              "        google.colab.kernel.accessAllowed ? 'block' : 'none';\n",
              "\n",
              "      async function convertToInteractive(key) {\n",
              "        const element = document.querySelector('#df-841ca221-32eb-41da-86f0-2deba916c6de');\n",
              "        const dataTable =\n",
              "          await google.colab.kernel.invokeFunction('convertToInteractive',\n",
              "                                                    [key], {});\n",
              "        if (!dataTable) return;\n",
              "\n",
              "        const docLinkHtml = 'Like what you see? Visit the ' +\n",
              "          '<a target=\"_blank\" href=https://colab.research.google.com/notebooks/data_table.ipynb>data table notebook</a>'\n",
              "          + ' to learn more about interactive tables.';\n",
              "        element.innerHTML = '';\n",
              "        dataTable['output_type'] = 'display_data';\n",
              "        await google.colab.output.renderOutput(dataTable, element);\n",
              "        const docLink = document.createElement('div');\n",
              "        docLink.innerHTML = docLinkHtml;\n",
              "        element.appendChild(docLink);\n",
              "      }\n",
              "    </script>\n",
              "  </div>\n",
              "\n",
              "\n",
              "<div id=\"df-eb7c9e05-697f-42dc-b257-488b809e9476\">\n",
              "  <button class=\"colab-df-quickchart\" onclick=\"quickchart('df-eb7c9e05-697f-42dc-b257-488b809e9476')\"\n",
              "            title=\"Suggest charts\"\n",
              "            style=\"display:none;\">\n",
              "\n",
              "<svg xmlns=\"http://www.w3.org/2000/svg\" height=\"24px\"viewBox=\"0 0 24 24\"\n",
              "     width=\"24px\">\n",
              "    <g>\n",
              "        <path d=\"M19 3H5c-1.1 0-2 .9-2 2v14c0 1.1.9 2 2 2h14c1.1 0 2-.9 2-2V5c0-1.1-.9-2-2-2zM9 17H7v-7h2v7zm4 0h-2V7h2v10zm4 0h-2v-4h2v4z\"/>\n",
              "    </g>\n",
              "</svg>\n",
              "  </button>\n",
              "\n",
              "<style>\n",
              "  .colab-df-quickchart {\n",
              "      --bg-color: #E8F0FE;\n",
              "      --fill-color: #1967D2;\n",
              "      --hover-bg-color: #E2EBFA;\n",
              "      --hover-fill-color: #174EA6;\n",
              "      --disabled-fill-color: #AAA;\n",
              "      --disabled-bg-color: #DDD;\n",
              "  }\n",
              "\n",
              "  [theme=dark] .colab-df-quickchart {\n",
              "      --bg-color: #3B4455;\n",
              "      --fill-color: #D2E3FC;\n",
              "      --hover-bg-color: #434B5C;\n",
              "      --hover-fill-color: #FFFFFF;\n",
              "      --disabled-bg-color: #3B4455;\n",
              "      --disabled-fill-color: #666;\n",
              "  }\n",
              "\n",
              "  .colab-df-quickchart {\n",
              "    background-color: var(--bg-color);\n",
              "    border: none;\n",
              "    border-radius: 50%;\n",
              "    cursor: pointer;\n",
              "    display: none;\n",
              "    fill: var(--fill-color);\n",
              "    height: 32px;\n",
              "    padding: 0;\n",
              "    width: 32px;\n",
              "  }\n",
              "\n",
              "  .colab-df-quickchart:hover {\n",
              "    background-color: var(--hover-bg-color);\n",
              "    box-shadow: 0 1px 2px rgba(60, 64, 67, 0.3), 0 1px 3px 1px rgba(60, 64, 67, 0.15);\n",
              "    fill: var(--button-hover-fill-color);\n",
              "  }\n",
              "\n",
              "  .colab-df-quickchart-complete:disabled,\n",
              "  .colab-df-quickchart-complete:disabled:hover {\n",
              "    background-color: var(--disabled-bg-color);\n",
              "    fill: var(--disabled-fill-color);\n",
              "    box-shadow: none;\n",
              "  }\n",
              "\n",
              "  .colab-df-spinner {\n",
              "    border: 2px solid var(--fill-color);\n",
              "    border-color: transparent;\n",
              "    border-bottom-color: var(--fill-color);\n",
              "    animation:\n",
              "      spin 1s steps(1) infinite;\n",
              "  }\n",
              "\n",
              "  @keyframes spin {\n",
              "    0% {\n",
              "      border-color: transparent;\n",
              "      border-bottom-color: var(--fill-color);\n",
              "      border-left-color: var(--fill-color);\n",
              "    }\n",
              "    20% {\n",
              "      border-color: transparent;\n",
              "      border-left-color: var(--fill-color);\n",
              "      border-top-color: var(--fill-color);\n",
              "    }\n",
              "    30% {\n",
              "      border-color: transparent;\n",
              "      border-left-color: var(--fill-color);\n",
              "      border-top-color: var(--fill-color);\n",
              "      border-right-color: var(--fill-color);\n",
              "    }\n",
              "    40% {\n",
              "      border-color: transparent;\n",
              "      border-right-color: var(--fill-color);\n",
              "      border-top-color: var(--fill-color);\n",
              "    }\n",
              "    60% {\n",
              "      border-color: transparent;\n",
              "      border-right-color: var(--fill-color);\n",
              "    }\n",
              "    80% {\n",
              "      border-color: transparent;\n",
              "      border-right-color: var(--fill-color);\n",
              "      border-bottom-color: var(--fill-color);\n",
              "    }\n",
              "    90% {\n",
              "      border-color: transparent;\n",
              "      border-bottom-color: var(--fill-color);\n",
              "    }\n",
              "  }\n",
              "</style>\n",
              "\n",
              "  <script>\n",
              "    async function quickchart(key) {\n",
              "      const quickchartButtonEl =\n",
              "        document.querySelector('#' + key + ' button');\n",
              "      quickchartButtonEl.disabled = true;  // To prevent multiple clicks.\n",
              "      quickchartButtonEl.classList.add('colab-df-spinner');\n",
              "      try {\n",
              "        const charts = await google.colab.kernel.invokeFunction(\n",
              "            'suggestCharts', [key], {});\n",
              "      } catch (error) {\n",
              "        console.error('Error during call to suggestCharts:', error);\n",
              "      }\n",
              "      quickchartButtonEl.classList.remove('colab-df-spinner');\n",
              "      quickchartButtonEl.classList.add('colab-df-quickchart-complete');\n",
              "    }\n",
              "    (() => {\n",
              "      let quickchartButtonEl =\n",
              "        document.querySelector('#df-eb7c9e05-697f-42dc-b257-488b809e9476 button');\n",
              "      quickchartButtonEl.style.display =\n",
              "        google.colab.kernel.accessAllowed ? 'block' : 'none';\n",
              "    })();\n",
              "  </script>\n",
              "</div>\n",
              "\n",
              "  <div id=\"id_db401c28-9ff3-486e-a4b7-c00046e13988\">\n",
              "    <style>\n",
              "      .colab-df-generate {\n",
              "        background-color: #E8F0FE;\n",
              "        border: none;\n",
              "        border-radius: 50%;\n",
              "        cursor: pointer;\n",
              "        display: none;\n",
              "        fill: #1967D2;\n",
              "        height: 32px;\n",
              "        padding: 0 0 0 0;\n",
              "        width: 32px;\n",
              "      }\n",
              "\n",
              "      .colab-df-generate:hover {\n",
              "        background-color: #E2EBFA;\n",
              "        box-shadow: 0px 1px 2px rgba(60, 64, 67, 0.3), 0px 1px 3px 1px rgba(60, 64, 67, 0.15);\n",
              "        fill: #174EA6;\n",
              "      }\n",
              "\n",
              "      [theme=dark] .colab-df-generate {\n",
              "        background-color: #3B4455;\n",
              "        fill: #D2E3FC;\n",
              "      }\n",
              "\n",
              "      [theme=dark] .colab-df-generate:hover {\n",
              "        background-color: #434B5C;\n",
              "        box-shadow: 0px 1px 3px 1px rgba(0, 0, 0, 0.15);\n",
              "        filter: drop-shadow(0px 1px 2px rgba(0, 0, 0, 0.3));\n",
              "        fill: #FFFFFF;\n",
              "      }\n",
              "    </style>\n",
              "    <button class=\"colab-df-generate\" onclick=\"generateWithVariable('kadai')\"\n",
              "            title=\"Generate code using this dataframe.\"\n",
              "            style=\"display:none;\">\n",
              "\n",
              "  <svg xmlns=\"http://www.w3.org/2000/svg\" height=\"24px\"viewBox=\"0 0 24 24\"\n",
              "       width=\"24px\">\n",
              "    <path d=\"M7,19H8.4L18.45,9,17,7.55,7,17.6ZM5,21V16.75L18.45,3.32a2,2,0,0,1,2.83,0l1.4,1.43a1.91,1.91,0,0,1,.58,1.4,1.91,1.91,0,0,1-.58,1.4L9.25,21ZM18.45,9,17,7.55Zm-12,3A5.31,5.31,0,0,0,4.9,8.1,5.31,5.31,0,0,0,1,6.5,5.31,5.31,0,0,0,4.9,4.9,5.31,5.31,0,0,0,6.5,1,5.31,5.31,0,0,0,8.1,4.9,5.31,5.31,0,0,0,12,6.5,5.46,5.46,0,0,0,6.5,12Z\"/>\n",
              "  </svg>\n",
              "    </button>\n",
              "    <script>\n",
              "      (() => {\n",
              "      const buttonEl =\n",
              "        document.querySelector('#id_db401c28-9ff3-486e-a4b7-c00046e13988 button.colab-df-generate');\n",
              "      buttonEl.style.display =\n",
              "        google.colab.kernel.accessAllowed ? 'block' : 'none';\n",
              "\n",
              "      buttonEl.onclick = () => {\n",
              "        google.colab.notebook.generateWithVariable('kadai');\n",
              "      }\n",
              "      })();\n",
              "    </script>\n",
              "  </div>\n",
              "\n",
              "    </div>\n",
              "  </div>\n"
            ],
            "application/vnd.google.colaboratory.intrinsic+json": {
              "type": "dataframe",
              "variable_name": "kadai",
              "summary": "{\n  \"name\": \"kadai\",\n  \"rows\": 78801,\n  \"fields\": [\n    {\n      \"column\": \"ID\",\n      \"properties\": {\n        \"dtype\": \"string\",\n        \"num_unique_values\": 78801,\n        \"samples\": [\n          \"23K23685\",\n          \"21H02665\",\n          \"19K03680\"\n        ],\n        \"semantic_type\": \"\",\n        \"description\": \"\"\n      }\n    },\n    {\n      \"column\": \"ShoKubun\",\n      \"properties\": {\n        \"dtype\": \"number\",\n        \"std\": 22976,\n        \"min\": 1010,\n        \"max\": 90150,\n        \"num_unique_values\": 306,\n        \"samples\": [\n          43010,\n          37010,\n          23010\n        ],\n        \"semantic_type\": \"\",\n        \"description\": \"\"\n      }\n    },\n    {\n      \"column\": \"Abst\",\n      \"properties\": {\n        \"dtype\": \"string\",\n        \"num_unique_values\": 78727,\n        \"samples\": [\n          \"\\u7814\\u7a76\\u76ee\\u7684\\u306f\\u3001\\u300e\\u300c\\u8178\\u5185\\u7d30\\u83cc\\u53e2\\u304c\\u98df\\u7269\\u7e4a\\u7dad\\u3092\\u57fa\\u8cea\\u3068\\u3057\\u3066\\u751f\\u6210\\u3059\\u308b\\u6c34\\u7d20\\u306f\\u3001\\u3046\\u3064\\u75c5\\u306a\\u3069\\u306b\\u898b\\u3089\\u308c\\u308b\\u8133\\u5185\\u30df\\u30af\\u30ed\\u30b0\\u30ea\\u30a2\\u306e\\u6d3b\\u6027\\u3092\\u8efd\\u6e1b\\u3059\\u308b\\u300d\\u3068\\u3044\\u3046\\u4eee\\u8aac\\u3092\\u8a3c\\u660e\\u3057\\u3001\\u8178\\u5185\\u767a\\u9175\\u3092\\u6d3b\\u6027\\u5316\\u3055\\u305b\\u308b\\u98df\\u7269\\u306e\\u6442\\u53d6\\u306b\\u3088\\u3063\\u3066\\u793e\\u4f1a\\u7684\\u30b9\\u30c8\\u30ec\\u30b9\\u306a\\u3069\\u306b\\u8d77\\u56e0\\u3059\\u308b\\u7cbe\\u795e\\u75be\\u60a3\\u306e\\u6cbb\\u7642\\u3084\\u767a\\u75c7\\u4e88\\u9632\\u306b\\u8ca2\\u732e\\u3059\\u308b\\u7814\\u7a76\\u3092\\u884c\\u3046\\u3053\\u3068\\u300f\\u3067\\u3042\\u308b\\u3002\\u305d\\u306e\\u7aef\\u7dd2\\u3068\\u3057\\u3066\\u672c\\u7533\\u8acb\\u8ab2\\u984c\\u3067\\u306f\\u3001\\u3046\\u3064\\u75c5\\u306e\\u30e2\\u30c7\\u30eb\\u30de\\u30a6\\u30b9\\u3068\\u3057\\u3066\\u5fc3\\u7406\\u793e\\u4f1a\\u30b9\\u30c8\\u30ec\\u30b9\\u30e2\\u30c7\\u30eb\\u30de\\u30a6\\u30b9\\u3092\\u4f5c\\u51fa\\u3057\\u3001\\u98df\\u7269\\u7e4a\\u7dad\\u3068\\u3057\\u3066\\u30d5\\u30e9\\u30af\\u30c8\\u30aa\\u30ea\\u30b4\\u7cd6\\u3092\\u6442\\u53d6\\u3057\\u305f\\u72b6\\u614b\\u306e\\u30de\\u30a6\\u30b9\\u306e\\u884c\\u52d5\\u30d1\\u30bf\\u30fc\\u30f3\\u306e\\u5909\\u5316\\u306b\\u3064\\u3044\\u3066\\u5206\\u6790\\u3092\\u884c\\u3044\\u3001\\u3055\\u3089\\u306b\\u8133\\u5185\\u30df\\u30af\\u30ed\\u30b0\\u30ea\\u30a2\\u306e\\u5f62\\u614b\\u7684\\u306a\\u5909\\u5316\\u3084\\u8133\\u5185\\u708e\\u75c7\\u6027\\u30b5\\u30a4\\u30c8\\u30ab\\u30a4\\u30f3\\u306e\\u767a\\u73fe\\u91cf\\u306a\\u3069\\u306b\\u3064\\u3044\\u3066\\u8a73\\u7d30\\u306a\\u5206\\u6790\\u3092\\u884c\\u3046\\u3002\",\n          \"\\u672c\\u7814\\u7a76\\u3067\\u306f\\u3001\\u6570\\u5024\\u89e3\\u6790\\u3084\\u632f\\u52d5\\u53f0\\u5b9f\\u9a13\\u3092\\u901a\\u3058\\u3066\\u3001\\u6db2\\u72b6\\u5316\\u73fe\\u8c61\\u306b\\u304a\\u3051\\u308b\\u6c34\\u5e73\\uff12\\u65b9\\u5411\\u5165\\u529b\\u306e\\u5f71\\u97ff\\u3092\\u5b9a\\u91cf\\u7684\\u306b\\u8a55\\u4fa1\\u3059\\u308b\\u3082\\u306e\\u3067\\u3042\\u308b\\u3002\\u4f4d\\u76f8\\u7279\\u6027\\u306e\\u7570\\u306a\\u308b\\uff12\\u65b9\\u5411\\u5fdc\\u7b54\\u30b9\\u30da\\u30af\\u30c8\\u30eb\\u9069\\u5408\\u5730\\u9707\\u52d5\\u306b\\u3088\\u308b\\u6f38\\u5897\\u52d5\\u7684\\u89e3\\u6790\\u3092\\u5b9f\\u65bd\\u3057\\u3001\\u6c34\\u5e73\\uff12\\u65b9\\u5411\\u5730\\u9707\\u52d5\\u306e\\u4f4d\\u76f8\\u7279\\u6027\\u304c\\u975e\\u7dda\\u5f62\\u52d5\\u7684\\u5fdc\\u7b54\\u306b\\u53ca\\u307c\\u3059\\u5f71\\u97ff\\u306b\\u3064\\u3044\\u3066\\u5b9a\\u91cf\\u7684\\u306a\\u8a55\\u4fa1\\u3092\\u5b9f\\u65bd\\u3059\\u308b\\u3002\\u3055\\u3089\\u306b\\u3001\\u5186\\u67f1\\u525b\\u571f\\u69fd\\u3092\\u7528\\u3044\\u305f\\u6c34\\u5e73\\uff12\\u65b9\\u5411\\u52a0\\u632f\\u306b\\u3088\\u308b\\uff11\\uff27\\u5834\\u306e\\u632f\\u52d5\\u53f0\\u5b9f\\u9a13\\u3001\\u500b\\u5225\\u8981\\u7d20\\u6cd5\\u306b\\u3088\\u308b\\u6c34\\u5e73\\uff12\\u65b9\\u5411\\u5358\\u7d14\\u305b\\u3093\\u65ad\\u8a66\\u9a13\\u3092\\u6a21\\u64ec\\u3057\\u305f\\u306e\\u6570\\u5024\\u89e3\\u6790\\u3092\\u901a\\u3058\\u3066\\u3001\\u6c34\\u5e73\\uff11\\u65b9\\u5411\\u5165\\u529b\\u6642\\u3068\\u6c34\\u5e73\\uff12\\u65b9\\u5411\\u5165\\u529b\\u6642\\u306e\\u7802\\u5730\\u76e4\\u306e\\u975e\\u7dda\\u5f62\\u52d5\\u7684\\u5fdc\\u7b54\\u7279\\u6027\\u3092\\u6bd4\\u8f03\\u3059\\u308b\\u3053\\u3068\\u3067\\u3001\\u6c34\\u5e73\\uff12\\u65b9\\u5411\\u5165\\u529b\\u5730\\u9707\\u52d5\\u306e\\u5f71\\u97ff\\u3092\\u5b9a\\u91cf\\u7684\\u306b\\u8a55\\u4fa1\\u3059\\u308b\\u3068\\u3068\\u3082\\u306b\\u3001\\u5f97\\u3089\\u308c\\u305f\\u7d50\\u679c\\u306b\\u57fa\\u3065\\u304d\\u3001\\u6b21\\u4e16\\u4ee3\\u306e\\u8010\\u9707\\u8a2d\\u8a08\\u3078\\u306e\\u5c55\\u958b\\u3092\\u56f3\\u308b\\u3002\",\n          \"\\u30d8\\u30ea\\u30a6\\u30e0\\uff14\\u5f37\\u76f8\\u95a2\\u30dc\\u30fc\\u30ba\\u6d41\\u4f53\\u306f\\u3001\\u30ca\\u30ce\\u69cb\\u9020\\u4f53\\u306b\\u3088\\u308a\\u6b21\\u5143\\u6027\\u3001\\u539f\\u5b50\\u76f8\\u95a2\\u3001\\u4e71\\u308c\\u306e\\u5236\\u5fa1\\u304c\\u53ef\\u80fd\\u3067\\u3042\\u308a\\u3001\\u591a\\u69d8\\u306a\\u91cf\\u5b50\\u7269\\u6027\\u7814\\u7a76\\u306e\\u30e2\\u30c7\\u30eb\\u7cfb\\u306b\\u6210\\u308a\\u5f97\\u308b\\u3002\\u30ca\\u30ce\\u30b9\\u30b1\\u30fc\\u30eb\\u306b\\u304a\\u3044\\u3066\\u6b21\\u5143\\u6027\\u3092\\u5236\\u5fa1\\u3057\\u305f\\u30d8\\u30ea\\u30a6\\u30e0\\uff14\\u30dc\\u30fc\\u30ba\\u6d41\\u4f53\\u306b\\u5bfe\\u3057\\u3066\\u3001\\u305d\\u306e\\u7279\\u7570\\u306a\\u5f37\\u76f8\\u95a2\\u7269\\u6027\\uff08\\u8d85\\u6d41\\u52d5\\u3001\\u91cf\\u5b50\\u81e8\\u754c\\u73fe\\u8c61\\u3001\\u91cf\\u5b50\\u7d76\\u7e01\\u4f53\\uff08\\u30dc\\u30fc\\u30ba\\u30b0\\u30e9\\u30b9\\u3001\\u30e2\\u30c3\\u30c8\\u7d76\\u7e01\\u4f53\\u3001\\u5c40\\u5728BEC\\u3001\\u91cf\\u5b50\\u30b9\\u30ea\\u30c3\\u30d7\\uff09\\u306a\\u3069\\u3092\\u7814\\u7a76\\u3059\\u308b\\u3002\\u30d8\\u30ea\\u30a6\\u30e0\\uff14\\u5f37\\u76f8\\u95a2\\u30dc\\u30fc\\u30ba\\u6d41\\u4f53\\u306b\\u5bfe\\u3057\\u3066\\u3001\\u5e83\\u3044\\u6e2c\\u5b9a\\u5468\\u6ce2\\u6570\\u7bc4\\u56f2\\u306b\\u304a\\u3051\\u308b\\u6a5f\\u68b0\\u7684\\u5fdc\\u7b54\\u6e2c\\u5b9a\\u3084\\u3001\\u71b1\\u529b\\u5b66\\u6e2c\\u5b9a\\u306a\\u3069\\u306e\\u6e29\\u5ea6\\u4f9d\\u5b58\\u3001\\u539f\\u5b50\\u76f8\\u95a2\\u4f9d\\u5b58\\u3001\\u5468\\u6ce2\\u6570\\u4f9d\\u5b58\\u3001\\u3092\\u8abf\\u3079\\u308b\\u3053\\u3068\\u3067\\u3001\\u591a\\u91cd\\u74b0\\u5883\\u4e0b\\u3067\\u306e\\u91cf\\u5b50\\u81e8\\u754c\\u9818\\u57df\\u30fb\\u76f8\\u56f3\\u3092\\u6c7a\\u5b9a\\u3057\\u3001\\u7570\\u306a\\u308b\\u30a8\\u30cd\\u30eb\\u30ae\\u30fc\\u30b9\\u30b1\\u30fc\\u30eb\\u3092\\u6301\\u3064\\u7269\\u7406\\u7cfb\\u3068\\u306e\\u5171\\u901a\\u6027\\u30fb\\u666e\\u904d\\u6027\\u3092\\u8b70\\u8ad6\\u3059\\u308b\\u3002\"\n        ],\n        \"semantic_type\": \"\",\n        \"description\": \"\"\n      }\n    }\n  ]\n}"
            }
          },
          "metadata": {},
          "execution_count": 7
        }
      ],
      "source": [
        "# 今後必要な行だけを取り出し、リネーム\n",
        "# kadai = raw_data[[\"研究課題/領域番号\", \"審査区分\", \"研究課題名\", \"研究開始時の研究の概要\", \"研究成果の概要\", \"研究実績の概要\", \"キーワード\"]]\n",
        "# kadai.columns = [\"ID\", \"ShoKubun\", \"Title\", \"Abst1\", \"Abst2\", \"Abst3\", \"Keyword\"]\n",
        "kadai = raw_data[[\"研究課題/領域番号\", \"審査区分\", \"研究開始時の研究の概要\"]]\n",
        "kadai.columns = [\"ID\", \"ShoKubun\", \"Abst\"]\n",
        "\n",
        "# 課題番号の重複を確認。課題番号でソートする。\n",
        "kadai[\"ID\"].duplicated().any()\n",
        "# kadai = kadai.set_index(\"ID\") # IDをインデックスに設定するコード\n",
        "kadai = kadai.sort_values(\"ID\")\n",
        "kadai.reset_index(inplace=True, drop=True)\n",
        "\n",
        "# Abstの各項目が英語だけの場合、ブランクに入れ替える\n",
        "# kadai.Abst1[~kadai[\"Title\"].str.contains(r'[ぁ-んァ-ン]', na=True)] = \"\"\n",
        "# kadai.Abst2[~kadai[\"Abst1\"].str.contains(r'[ぁ-んァ-ン]', na=True)] = \"\"\n",
        "# kadai.Abst3[~kadai[\"Abst2\"].str.contains(r'[ぁ-んァ-ン]', na=True)] = \"\"\n",
        "# kadai.Abst1[~kadai[\"Abst3\"].str.contains(r'[ぁ-んァ-ン]', na=True)] = \"\"\n",
        "\n",
        "# 研究開始時の研究の概要、研究成果の概要、研究実績の概要、キーワードを結合\n",
        "# kadai['Abst'] = kadai['Title'].fillna('') + kadai['Abst1'].fillna('') + kadai['Abst2'].fillna('') + kadai['Abst3'].fillna('') + kadai['Keyword'] # t01\n",
        "# kadai['Abst'] = kadai['Title'].fillna('') + '。' + kadai['Keyword'] + '。' + kadai['Abst1'].fillna('') + kadai['Abst2'].fillna('') + kadai['Abst3'].fillna('') # t02\n",
        "\n",
        "\n",
        "\n",
        "# Abstが空欄の課題を削除\n",
        "print(\"オリジナルの課題数： %5d\" % len(kadai))\n",
        "print(\"概要が空白の課題数： %5d\" % len(kadai[kadai[\"Abst\"].isna()]))\n",
        "kadai = kadai.dropna(subset=[\"Abst\"])\n",
        "print(\"空白を除いた課題数： %5d\\n\" % len(kadai))\n",
        "\n",
        "# Abst中の改行コード、全角スペースを削除\n",
        "kadai = kadai.replace('\\r', '', regex=True) # Carriage Return(MacOS9) \\r\\n for Windows\n",
        "kadai = kadai.replace('\\n', '', regex=True) # Line Feed（Unix MacOSX）\n",
        "# kadai = kadai.replace(' ', '', regex=True) # 半角スペースは英語があるので削除しない\n",
        "kadai = kadai.replace('　', '', regex=True) # 全角スペース\n",
        "\n",
        "# Abstが英語のみの課題を削除\n",
        "num_jpen = len(kadai)\n",
        "kadai = kadai[kadai[\"Abst\"].str.contains(r'[ぁ-んァ-ン]')]\n",
        "num_jp   = len(kadai)\n",
        "print(\"日本語＋英語： %5d\" % num_jpen)\n",
        "print(\"英語　　　　： %5d\" % (num_jpen - num_jp))\n",
        "print(\"日本語　　　： %5d\\n\" % num_jp)\n",
        "\n",
        "# 小区分が設定されていない課題を削除（旧分類、特設分野）\n",
        "aaa = len(kadai)\n",
        "kadai = kadai.dropna(subset=[\"ShoKubun\"])\n",
        "print(\"小区分がブランク： %5d\" % (aaa - len(kadai)))\n",
        "print(\"小区分の設定あり： %5d\\n\" % len(kadai))\n",
        "\n",
        "# 小区分の文字列の数字部分だけを取り出す\n",
        "kadai[\"ShoKubun\"] = kadai[\"ShoKubun\"].str[3:8]\n",
        "kadai = kadai.astype({\"ShoKubun\": int})\n",
        "\n",
        "kadai"
      ]
    },
    {
      "cell_type": "markdown",
      "metadata": {
        "id": "LADy70wOgyXg"
      },
      "source": [
        "### 整理した科研費データの保存\n",
        "審査区分データを読み込み、小区分番号を参照して結合  \n",
        "トレーニングデータと、テストデータに分けて保存する。"
      ]
    },
    {
      "cell_type": "code",
      "execution_count": null,
      "metadata": {
        "id": "fIyvN2MT4Unl",
        "vscode": {
          "languageId": "python"
        }
      },
      "outputs": [],
      "source": [
        "from sklearn.model_selection import train_test_split\n",
        "\n",
        "# 科研費の審査区分表データのcsvファイル\n",
        "open_kubun_csv = \"KubunTable.csv\"\n",
        "data_path = \"/content/drive/My Drive/ResearchClassifier/\" # Google colaboratory\n",
        "# data_path = \"./\" # sagemaker\n",
        "\n",
        "# 書き出し用CSVファイル名\n",
        "train_csv = data_path + \"kadai_train.csv\"\n",
        "test_csv  = data_path + \"kadai_test.csv\"\n",
        "\n",
        "# ============================================================================\n",
        "\n",
        "# 審査区分テーブルのロード\n",
        "kubun_table = pd.read_csv(data_path + open_kubun_csv, encoding=\"cp932\")\n",
        "kubun_table = kubun_table[[\"tabDai\", \"tabSho\"]]\n",
        "\n",
        "# 審査区分表の重複を削除（一つの小区分が２つまたは３つの『中区分』に所属することに由来する）\n",
        "print(\"重複削除前の項目数： %3d\" % len(kubun_table))\n",
        "kubun_table = kubun_table.drop_duplicates()\n",
        "print(\"重複削除後の項目数： %3d\\n\" % len(kubun_table))\n",
        "\n",
        "## 中区分への変換\n",
        "## mergeを用いて、審査区分表のデータと突合\n",
        "#print(\"統合前のデータ数： %5d\" % len(kadai))\n",
        "#kadaiChu = pd.merge(kadai, kubun_table, left_on='ShoKubun', right_on='tabSho')\n",
        "#kadaiChu = kadaiChu[[\"Abst\", \"tabChu\", \"ID\", \"ShoKubun\"]]\n",
        "#print(\"統合したデータ数： %5d\\n\" % len(kadaiChu))\n",
        "\n",
        "# 大区分への変換\n",
        "# mergeを用いて、審査区分表のデータと突合\n",
        "print(\"統合前のデータ数： %5d\" % len(kadai))\n",
        "kadaiDai = pd.merge(kadai, kubun_table, left_on='ShoKubun', right_on='tabSho')\n",
        "kadaiDai = kadaiDai[[\"Abst\", \"tabDai\", \"ID\", \"ShoKubun\"]]\n",
        "print(\"統合したデータ数： %5d\" % len(kadaiDai))\n",
        "\n",
        "# 訓練用とテスト用に分割 層化\n",
        "kadai_train, kadai_test =  train_test_split(kadaiDai, shuffle=True, stratify = kadaiDai[\"tabDai\"].tolist())\n",
        "print(\"トレーニングデータ数： %5d\"   % len(kadai_train))\n",
        "print(\"テストデータ数　　　： %5d\\n\" % len(kadai_test))\n",
        "\n",
        "\n",
        "\n",
        "## 訓練用とテスト用に分割 層化\n",
        "#kadai_train, kadai_test =  train_test_split(kadaiChu, shuffle=True, stratify = kadaiChu[\"tabChu\"].tolist())\n",
        "#print(\"トレーニングデータ数： %5d\" % len(kadai_train))\n",
        "#print(\"テストデータ数　　　： %5d\\n\" % len(kadai_test))\n",
        "\n",
        "# 課題番号→小区分→中区分を基準にソート（計算的には不要だが、人間用にソートしておく）\n",
        "kadai_train = kadai_train.sort_values([\"tabDai\", \"ShoKubun\", \"ID\"])\n",
        "kadai_test  = kadai_test.sort_values ([\"tabDai\", \"ShoKubun\", \"ID\"])\n",
        "\n",
        "# ソート用に残していた課題番号（ID）行を削除\n",
        "#kadai_train = kadai_train.drop(['ID'], axis=1)\n",
        "#kadai_test  = kadai_test.drop (['ID'], axis=1)\n",
        "kadai_train = kadai_train.drop(['ID', 'ShoKubun'], axis=1)\n",
        "kadai_test  = kadai_test.drop (['ID', 'ShoKubun'], axis=1)\n",
        "\n",
        "# csvとして書き出し\n",
        "kadai_train.to_csv(train_csv, header=False, index=False)\n",
        "kadai_test.to_csv (test_csv,  header=False, index=False)\n",
        "\n",
        "print(\"Saved\\n %s\\n %s\\n\" % (train_csv, test_csv))"
      ]
    },
    {
      "cell_type": "markdown",
      "metadata": {
        "id": "ZsgQNMJxpBnW"
      },
      "source": [
        "## ファインチューニングの実施\n",
        "### モデルとTokenizerの読み込み\n",
        "日本語の事前学習済みモデルと、これと紐づいたTokenizerを読み込みます。"
      ]
    },
    {
      "cell_type": "code",
      "execution_count": null,
      "metadata": {
        "id": "9R0HK29fHrf3",
        "vscode": {
          "languageId": "python"
        }
      },
      "outputs": [],
      "source": [
        "from transformers import BertForSequenceClassification, BertJapaneseTokenizer\n",
        "\n",
        "sc_model = BertForSequenceClassification.from_pretrained(\"cl-tohoku/bert-base-japanese-whole-word-masking\", num_labels=11) # 大区分は11\n",
        "sc_model.cuda() # GPUを使う\n",
        "tokenizer = BertJapaneseTokenizer.from_pretrained(\"cl-tohoku/bert-base-japanese-whole-word-masking\")\n",
        "\n",
        "print(\"Finish\")"
      ]
    },
    {
      "cell_type": "markdown",
      "metadata": {
        "id": "aWCmm2TjqToE"
      },
      "source": [
        "### データセットの読み込み\n",
        "さきほど作成した科研費データ（training,test）を読み込みます。"
      ]
    },
    {
      "cell_type": "code",
      "execution_count": null,
      "metadata": {
        "id": "rfEnNpv9HuXI",
        "vscode": {
          "languageId": "python"
        }
      },
      "outputs": [],
      "source": [
        "from datasets import load_dataset\n",
        "\n",
        "def tokenize(batch):\n",
        "    # return tokenizer(batch[\"text\"], padding=True, truncation=True, max_length=128)\n",
        "    return tokenizer(batch[\"text\"], padding=True, truncation=True, max_length=512)\n",
        "\n",
        "data_path = \"/content/drive/My Drive/ResearchClassifier/\"\n",
        "\n",
        "train_data = load_dataset(\"csv\", data_files=data_path+\"kadai_train.csv\", column_names=[\"text\", \"label\"], split=\"train\")\n",
        "train_data = train_data.map(tokenize, batched=True, batch_size=len(train_data))\n",
        "train_data.set_format(\"torch\", columns=[\"input_ids\", \"label\"])\n",
        "\n",
        "test_data = load_dataset(\"csv\", data_files=data_path+\"kadai_test.csv\", column_names=[\"text\", \"label\"], split=\"train\")\n",
        "test_data = test_data.map(tokenize, batched=True, batch_size=len(test_data))\n",
        "test_data.set_format(\"torch\", columns=[\"input_ids\", \"label\"])\n",
        "\n",
        "print(\"Finish\")"
      ]
    },
    {
      "cell_type": "markdown",
      "metadata": {
        "id": "9Y6Fcqmy2rG2"
      },
      "source": [
        "## 評価用の関数\n",
        "`sklearn.metrics`を使用し、モデルを評価するための関数を定義します。  \n"
      ]
    },
    {
      "cell_type": "code",
      "execution_count": null,
      "metadata": {
        "id": "plAZjdkG0FdV",
        "vscode": {
          "languageId": "python"
        }
      },
      "outputs": [],
      "source": [
        "from sklearn.metrics import accuracy_score\n",
        "\n",
        "def compute_metrics(result):\n",
        "    labels = result.label_ids\n",
        "    preds = result.predictions.argmax(-1)\n",
        "    acc = accuracy_score(labels, preds)\n",
        "    return {\n",
        "        \"accuracy\": acc,\n",
        "    }\n",
        "\n",
        "print(\"Finish\")"
      ]
    },
    {
      "cell_type": "markdown",
      "metadata": {
        "id": "MjLqAVy7z0T3"
      },
      "source": [
        "### Trainerの設定\n",
        "Trainerクラス、およびTrainingArgumentsクラスを使用して、訓練を行うTrainerの設定を行います。  \n",
        "https://huggingface.co/transformers/main_classes/trainer.html  \n",
        "https://huggingface.co/transformers/main_classes/trainer.html#trainingarguments  "
      ]
    },
    {
      "cell_type": "code",
      "execution_count": null,
      "metadata": {
        "id": "ZhaexaAOI3kV",
        "vscode": {
          "languageId": "python"
        }
      },
      "outputs": [],
      "source": [
        "from transformers import Trainer, TrainingArguments\n",
        "\n",
        "training_args = TrainingArguments(\n",
        "    output_dir = \"./results\",\n",
        "    num_train_epochs = 2,\n",
        "    per_device_train_batch_size = 8,\n",
        "    per_device_eval_batch_size = 32,\n",
        "    warmup_steps = 500,  # 学習係数が0からこのステップ数で上昇\n",
        "    weight_decay = 0.01,  # 重みの減衰率\n",
        "    # evaluate_during_training = True,  # ここの記述はバージョンによっては必要ありません\n",
        "    logging_dir = \"./logs\",\n",
        "    save_total_limit=1,  # limit the total amount of checkpoints. Deletes the older checkpoints.\n",
        ")\n",
        "\n",
        "trainer = Trainer(\n",
        "    model = sc_model,\n",
        "    args = training_args,\n",
        "    compute_metrics = compute_metrics,\n",
        "    train_dataset = train_data,\n",
        "    eval_dataset = test_data,\n",
        ")\n",
        "\n",
        "print(\"Finish\")"
      ]
    },
    {
      "cell_type": "markdown",
      "metadata": {
        "id": "o0F5nXKpSCnS"
      },
      "source": [
        "### モデルの訓練\n",
        "設定に基づきファインチューニングを行います。  \n",
        "40分程度かかる。 colaboratory 32分かかった　sagemaker"
      ]
    },
    {
      "cell_type": "code",
      "execution_count": null,
      "metadata": {
        "id": "29fkN4UcI4jm",
        "vscode": {
          "languageId": "python"
        }
      },
      "outputs": [],
      "source": [
        "trainer.train()\n",
        "\n",
        "print(\"Finish\")"
      ]
    },
    {
      "cell_type": "markdown",
      "metadata": {
        "id": "c76zhkQVS2xZ"
      },
      "source": [
        "### モデルの評価\n",
        "Trainerの`evaluate()`メソッドによりモデルを評価します。  \n",
        "２分程度かかる"
      ]
    },
    {
      "cell_type": "code",
      "execution_count": null,
      "metadata": {
        "id": "wIgke21zI6l_",
        "vscode": {
          "languageId": "python"
        }
      },
      "outputs": [],
      "source": [
        "trainer.evaluate()\n",
        "\n",
        "print(\"Finish\")"
      ]
    },
    {
      "cell_type": "markdown",
      "metadata": {
        "id": "6EFwqzLRUhaB"
      },
      "source": [
        "### TensorBoardによる結果の表示\n",
        "TensorBoardを使って、logsフォルダに格納された学習過程を表示します。"
      ]
    },
    {
      "cell_type": "code",
      "execution_count": null,
      "metadata": {
        "id": "1vv39tuDJq5n",
        "vscode": {
          "languageId": "python"
        }
      },
      "outputs": [],
      "source": [
        "%load_ext tensorboard\n",
        "%tensorboard --logdir logs"
      ]
    },
    {
      "cell_type": "markdown",
      "metadata": {
        "id": "a-BscHjHxs0H"
      },
      "source": [
        "### モデルの保存\n",
        "訓練済みのモデルを保存します。"
      ]
    },
    {
      "cell_type": "code",
      "execution_count": null,
      "metadata": {
        "id": "UvwVcXuIyH7V",
        "vscode": {
          "languageId": "python"
        }
      },
      "outputs": [],
      "source": [
        "data_path = \"/content/drive/My Drive/ResearchClassifier/\"\n",
        "\n",
        "sc_model.save_pretrained(data_path)\n",
        "tokenizer.save_pretrained(data_path)\n",
        "\n",
        "print(\"Finish\")"
      ]
    }
  ],
  "metadata": {
    "accelerator": "GPU",
    "colab": {
      "name": "01_news_classification.ipynb",
      "provenance": [],
      "include_colab_link": true
    },
    "kernelspec": {
      "display_name": "Python 3",
      "name": "python3"
    }
  },
  "nbformat": 4,
  "nbformat_minor": 0
}