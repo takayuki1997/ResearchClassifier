{
 "cells": [
  {
   "cell_type": "markdown",
   "metadata": {
    "colab_type": "text",
    "id": "view-in-github"
   },
   "source": [
    "<a href=\"https://colab.research.google.com/github/yukinaga/bert_nlp/blob/main/section_5/01_news_classification.ipynb\" target=\"_parent\"><img src=\"https://colab.research.google.com/assets/colab-badge.svg\" alt=\"Open In Colab\"/></a>"
   ]
  },
  {
   "cell_type": "markdown",
   "metadata": {
    "id": "vrgegdDZjf8E"
   },
   "source": [
    "# 学術分野の分類（複数）\n",
    "## jst_categorize_multi.ipynb\n",
    "kakenhi_fine_tuning.ipynbでファインチューニングにより作成したモデルを用いて、新たな複数の学術文書（JSTやAMEDを含めた科研費に限らない）を11の大区分に分類するプログラム"
   ]
  },
  {
   "cell_type": "markdown",
   "metadata": {
    "id": "m6moZnLFkFwr"
   },
   "source": [
    "### ライブラリのインストール\n",
    "SageMakerでは初回だけで良い（Google colaboratoryでは毎回）  \n",
    "ライブラリTransformers、およびnlpをインストールします。  "
   ]
  },
  {
   "cell_type": "code",
   "execution_count": null,
   "metadata": {},
   "outputs": [],
   "source": [
    "# pipのアップデート（たまに走らせても良いかも）\n",
    "!pip list\n",
    "!python -m pip install --upgrade pip"
   ]
  },
  {
   "cell_type": "code",
   "execution_count": null,
   "metadata": {
    "id": "7qg6t5nnBjqs"
   },
   "outputs": [],
   "source": [
    "# ライブラリのインストール\n",
    "!pip install torch\n",
    "!pip install transformers\n",
    "!pip install nlp\n",
    "!pip install datasets\n",
    "!pip install fugashi\n",
    "!pip install ipadic"
   ]
  },
  {
   "cell_type": "markdown",
   "metadata": {
    "id": "KcHOX9LyZc2g"
   },
   "source": [
    "### Google ドライブとの連携  \n",
    "以下のコードを実行し、認証コードを使用してGoogle ドライブをマウントします。"
   ]
  },
  {
   "cell_type": "code",
   "execution_count": null,
   "metadata": {
    "id": "7h7BA67Ed5wT"
   },
   "outputs": [],
   "source": [
    "# SageMakerでは不要\n",
    "# from google.colab import drive\n",
    "# drive.mount(\"/content/drive/\")"
   ]
  },
  {
   "cell_type": "markdown",
   "metadata": {},
   "source": [
    "## 複数の学術文書を分類\n",
    "学習済み（ファインチューニング済み）のモデルを読み込み、複数の学術文書（実際には科研費概要テキスト）を分類する"
   ]
  },
  {
   "cell_type": "markdown",
   "metadata": {
    "id": "zZuJCZBK0RJx"
   },
   "source": [
    "### モデルの読み込み\n",
    "保存済みのモデルを読み込みます。"
   ]
  },
  {
   "cell_type": "code",
   "execution_count": null,
   "metadata": {
    "id": "ZWtcQRuP0X45"
   },
   "outputs": [],
   "source": [
    "from transformers import BertForSequenceClassification, BertJapaneseTokenizer\n",
    "print(\"Start\")\n",
    "#data_path = \"/content/drive/My Drive/bert_nlp/section_5/\" # Google colaboratory\n",
    "data_path = \"./\" # SageMaker\n",
    "\n",
    "loaded_model = BertForSequenceClassification.from_pretrained(data_path) \n",
    "loaded_model.cuda() # GPU対応\n",
    "loaded_tokenizer = BertJapaneseTokenizer.from_pretrained(data_path)\n",
    "\n",
    "print(\"Finish\")"
   ]
  },
  {
   "cell_type": "markdown",
   "metadata": {},
   "source": [
    "### 分類精度検証用の科研費データ読み込み"
   ]
  },
  {
   "cell_type": "code",
   "execution_count": 12,
   "metadata": {},
   "outputs": [
    {
     "name": "stdout",
     "output_type": "stream",
     "text": [
      "Start\n"
     ]
    },
    {
     "name": "stderr",
     "output_type": "stream",
     "text": [
      "/tmp/ipykernel_85/1531393593.py:21: SettingWithCopyWarning: \n",
      "A value is trying to be set on a copy of a slice from a DataFrame.\n",
      "Try using .loc[row_indexer,col_indexer] = value instead\n",
      "\n",
      "See the caveats in the documentation: https://pandas.pydata.org/pandas-docs/stable/user_guide/indexing.html#returning-a-view-versus-a-copy\n",
      "  kadaiDai2['tabDai'] = 0\n"
     ]
    },
    {
     "data": {
      "text/html": [
       "<div>\n",
       "<style scoped>\n",
       "    .dataframe tbody tr th:only-of-type {\n",
       "        vertical-align: middle;\n",
       "    }\n",
       "\n",
       "    .dataframe tbody tr th {\n",
       "        vertical-align: top;\n",
       "    }\n",
       "\n",
       "    .dataframe thead th {\n",
       "        text-align: right;\n",
       "    }\n",
       "</style>\n",
       "<table border=\"1\" class=\"dataframe\">\n",
       "  <thead>\n",
       "    <tr style=\"text-align: right;\">\n",
       "      <th></th>\n",
       "      <th>ID</th>\n",
       "      <th>FA</th>\n",
       "      <th>Abst</th>\n",
       "      <th>tabDai</th>\n",
       "    </tr>\n",
       "  </thead>\n",
       "  <tbody>\n",
       "    <tr>\n",
       "      <th>0</th>\n",
       "      <td>1009959</td>\n",
       "      <td>環境省</td>\n",
       "      <td>・211At,223Ra および 225Ac と壊変核種について、精製・標識実験、細胞実験、...</td>\n",
       "      <td>0</td>\n",
       "    </tr>\n",
       "    <tr>\n",
       "      <th>1</th>\n",
       "      <td>918584</td>\n",
       "      <td>AMED</td>\n",
       "      <td>・ヒト肝細胞キメラ TK-NOG マウスに C 型肝炎患者血清を投与することにより、ウイルス...</td>\n",
       "      <td>0</td>\n",
       "    </tr>\n",
       "    <tr>\n",
       "      <th>2</th>\n",
       "      <td>886054</td>\n",
       "      <td>厚労省</td>\n",
       "      <td>・医療機関外死亡に対する死後画像診断を安全に実施するための基準を作成する。・死後画像診断につ...</td>\n",
       "      <td>0</td>\n",
       "    </tr>\n",
       "    <tr>\n",
       "      <th>3</th>\n",
       "      <td>955716</td>\n",
       "      <td>厚労省</td>\n",
       "      <td>・感染症発生動向調査の評価と改善法の提案：疫学的・統計学的な観点からの評価とともに、ステーク...</td>\n",
       "      <td>0</td>\n",
       "    </tr>\n",
       "    <tr>\n",
       "      <th>4</th>\n",
       "      <td>918227</td>\n",
       "      <td>AMED</td>\n",
       "      <td>・局所進行頭頸部扁平上皮癌術後再発High-Risk患者に対するweekly CDDP+RT...</td>\n",
       "      <td>0</td>\n",
       "    </tr>\n",
       "    <tr>\n",
       "      <th>...</th>\n",
       "      <td>...</td>\n",
       "      <td>...</td>\n",
       "      <td>...</td>\n",
       "      <td>...</td>\n",
       "    </tr>\n",
       "    <tr>\n",
       "      <th>2697</th>\n",
       "      <td>918254</td>\n",
       "      <td>AMED</td>\n",
       "      <td>膵癌に対する高い抗腫瘍効果が認められた人工核酸YB-1阻害アンチセンスを臨床応用するために、...</td>\n",
       "      <td>0</td>\n",
       "    </tr>\n",
       "    <tr>\n",
       "      <th>2698</th>\n",
       "      <td>917996</td>\n",
       "      <td>AMED</td>\n",
       "      <td>膵癌は、我が国で約3万人が年間死亡し、部位別癌死亡数の第5位を占める重要な悪性腫瘍である。膵...</td>\n",
       "      <td>0</td>\n",
       "    </tr>\n",
       "    <tr>\n",
       "      <th>2699</th>\n",
       "      <td>918255</td>\n",
       "      <td>AMED</td>\n",
       "      <td>膵癌は浸潤・転移能が非常に高く、転移抑制剤は膵癌の進行を抑制する戦略として期待される。われわ...</td>\n",
       "      <td>0</td>\n",
       "    </tr>\n",
       "    <tr>\n",
       "      <th>2700</th>\n",
       "      <td>147197</td>\n",
       "      <td>厚労省</td>\n",
       "      <td>臍帯血は血液疾患のみならず、組織幹細胞ソースとして代謝性疾患等にも応用され、さらに近年では脳...</td>\n",
       "      <td>0</td>\n",
       "    </tr>\n",
       "    <tr>\n",
       "      <th>2701</th>\n",
       "      <td>918099</td>\n",
       "      <td>AMED</td>\n",
       "      <td>臍帯由来間葉系(幹)細胞（Mesenchymal Stem/Stromal Cells;MS...</td>\n",
       "      <td>0</td>\n",
       "    </tr>\n",
       "  </tbody>\n",
       "</table>\n",
       "<p>2702 rows × 4 columns</p>\n",
       "</div>"
      ],
      "text/plain": [
       "           ID    FA                                               Abst  tabDai\n",
       "0     1009959   環境省  ・211At,223Ra および 225Ac と壊変核種について、精製・標識実験、細胞実験、...       0\n",
       "1      918584  AMED  ・ヒト肝細胞キメラ TK-NOG マウスに C 型肝炎患者血清を投与することにより、ウイルス...       0\n",
       "2      886054   厚労省  ・医療機関外死亡に対する死後画像診断を安全に実施するための基準を作成する。・死後画像診断につ...       0\n",
       "3      955716   厚労省  ・感染症発生動向調査の評価と改善法の提案：疫学的・統計学的な観点からの評価とともに、ステーク...       0\n",
       "4      918227  AMED  ・局所進行頭頸部扁平上皮癌術後再発High-Risk患者に対するweekly CDDP+RT...       0\n",
       "...       ...   ...                                                ...     ...\n",
       "2697   918254  AMED  膵癌に対する高い抗腫瘍効果が認められた人工核酸YB-1阻害アンチセンスを臨床応用するために、...       0\n",
       "2698   917996  AMED  膵癌は、我が国で約3万人が年間死亡し、部位別癌死亡数の第5位を占める重要な悪性腫瘍である。膵...       0\n",
       "2699   918255  AMED  膵癌は浸潤・転移能が非常に高く、転移抑制剤は膵癌の進行を抑制する戦略として期待される。われわ...       0\n",
       "2700   147197   厚労省  臍帯血は血液疾患のみならず、組織幹細胞ソースとして代謝性疾患等にも応用され、さらに近年では脳...       0\n",
       "2701   918099  AMED  臍帯由来間葉系(幹)細胞（Mesenchymal Stem/Stromal Cells;MS...       0\n",
       "\n",
       "[2702 rows x 4 columns]"
      ]
     },
     "execution_count": 12,
     "metadata": {},
     "output_type": "execute_result"
    }
   ],
   "source": [
    "import pandas as pd\n",
    "\n",
    "print(\"Start\")\n",
    "\n",
    "# open_original_csv = \"RUC共同研究_概要_NoJSPS.csv\" #\n",
    "# open_original_csv = \"RUC共同研究_概要_NoDescription.csv\" # \n",
    "# open_original_csv = \"再々依頼_概要なし.csv\" # \n",
    "open_original_csv = \"再々依頼_概要あり.csv\" # \n",
    "data_path = \"../data/\"\n",
    "\n",
    "# csvファイルを開く\n",
    "raw_data2 = pd.read_csv(data_path + open_original_csv) # dtype=\"object\"必要？\n",
    "\n",
    "# 読み込んだデータをチェック\n",
    "# raw_data.info()\n",
    "\n",
    "\n",
    "# 今後必要な行だけを取り出し、リネーム\n",
    "kadaiDai2 = raw_data2[[\"ID\", \"FA\", \"description\"]]\n",
    "# kadaiDai2 = raw_data2[[\"ID\", \"FA\", \"Title\"]] # only for NoDescription\n",
    "kadaiDai2['tabDai'] = 0\n",
    "kadaiDai2.columns = [\"ID\", \"FA\", \"Abst\", \"tabDai\"]\n",
    "\n",
    "# kadaiDai2 = kadaiDai2[kadaiDai2['FA'] != 'JSPS']\n",
    "\n",
    "print(\"Finish\")\n",
    "kadaiDai2"
   ]
  },
  {
   "cell_type": "code",
   "execution_count": 13,
   "metadata": {},
   "outputs": [
    {
     "name": "stdout",
     "output_type": "stream",
     "text": [
      "Start\n",
      "オリジナルの課題数：  2702\n",
      "概要が空白の課題数：     0\n",
      "空白を除いた課題数：  2702\n",
      "日本語＋英語：  2702\n",
      "英語　　　　：     0\n",
      "日本語　　　：  2702\n",
      "Finish\n"
     ]
    }
   ],
   "source": [
    "print(\"Start\")\n",
    "\n",
    "# 課題番号の重複を確認。課題番号でソートする。\n",
    "kadaiDai2[\"ID\"].duplicated().any()\n",
    "# kadaiDai2 = kadaiDai2.set_index(\"ID\") # IDをインデックスに設定するコード\n",
    "kadaiDai2 = kadaiDai2.sort_values(\"ID\")\n",
    "\n",
    "# Abstが空欄の課題を削除\n",
    "print(\"オリジナルの課題数： %5d\" % len(kadaiDai2))\n",
    "print(\"概要が空白の課題数： %5d\" % len(kadaiDai2[kadaiDai2[\"Abst\"].isna()]))\n",
    "kadaiDai2 = kadaiDai2.dropna(subset=[\"Abst\"])\n",
    "print(\"空白を除いた課題数： %5d\" % len(kadaiDai2))\n",
    "\n",
    "# Abst中の改行コードを削除\n",
    "kadaiDai2 = kadaiDai2.replace('\\r', '', regex=True)\n",
    "kadaiDai2 = kadaiDai2.replace('\\n', '', regex=True)\n",
    "kadaiDai2 = kadaiDai2.replace('　', '', regex=True) # 全角スペース\n",
    "\n",
    "# Abstが英語のみの課題を削除\n",
    "num_jpen = len(kadaiDai2)\n",
    "kadaiDai2 = kadaiDai2[kadaiDai2[\"Abst\"].str.contains(r'[ぁ-んァ-ン]')]\n",
    "num_jp   = len(kadaiDai2)\n",
    "print(\"日本語＋英語： %5d\" % num_jpen)\n",
    "print(\"英語　　　　： %5d\" % (num_jpen - num_jp))\n",
    "print(\"日本語　　　： %5d\" % num_jp)\n",
    "\n",
    "print(\"Finish\")"
   ]
  },
  {
   "cell_type": "markdown",
   "metadata": {},
   "source": [
    "### 分類精度を複数ファイルで確認\n",
    "３時間程度かかるかも  \n",
    "sagemakerでは40分程度"
   ]
  },
  {
   "cell_type": "code",
   "execution_count": 14,
   "metadata": {},
   "outputs": [
    {
     "name": "stdout",
     "output_type": "stream",
     "text": [
      "分類する課題数： 2702\n"
     ]
    },
    {
     "name": "stderr",
     "output_type": "stream",
     "text": [
      "100%|██████████| 2702/2702 [01:34<00:00, 28.68it/s]"
     ]
    },
    {
     "name": "stdout",
     "output_type": "stream",
     "text": [
      "(2702, 11)\n"
     ]
    },
    {
     "name": "stderr",
     "output_type": "stream",
     "text": [
      "\n"
     ]
    },
    {
     "data": {
      "text/plain": [
       "array([[ 1.93207276, -1.15442955, -0.10450167, ...,  4.89918423,\n",
       "        -0.84664804,  0.89417267],\n",
       "       [-1.07828379, -3.08552122, -3.09622383, ...,  5.60167027,\n",
       "        -2.12422323, -0.8098672 ],\n",
       "       [ 0.94985783, -2.25845003, -1.42935514, ...,  6.35273838,\n",
       "        -0.11959677, -2.22099066],\n",
       "       ...,\n",
       "       [-0.24932507, -2.79833794, -3.0353148 , ...,  6.83905315,\n",
       "        -1.79406428, -1.44619238],\n",
       "       [-0.71411115, -2.66774964, -2.41473103, ...,  6.94206619,\n",
       "        -1.89559722, -1.50186241],\n",
       "       [-0.06287571, -2.43212104, -2.33239222, ...,  6.98633909,\n",
       "        -1.87043726, -1.43922555]])"
      ]
     },
     "execution_count": 14,
     "metadata": {},
     "output_type": "execute_result"
    }
   ],
   "source": [
    "import glob  # ファイルの取得に使用\n",
    "import os\n",
    "import torch\n",
    "import numpy as np\n",
    "import pandas as pd\n",
    "from tqdm import tqdm\n",
    "\n",
    "results_binary = 'results'\n",
    "# data_path = \"/content/drive/My Drive/bert_nlp/section_5/\" # Google colaboratory\n",
    "data_path = \"./\" # sagemaker\n",
    "Daikubun = [\"A\", \"B\", \"C\", \"D\", \"E\", \"F\", \"G\", \"H\", \"I\", \"J\", \"K\"]\n",
    "\n",
    "\n",
    "max_length = 512\n",
    "\n",
    "num_data = len(kadaiDai2)\n",
    "print(\"分類する課題数： %d\" % num_data)\n",
    "# num_data = 100\n",
    "num_category = len(Daikubun)\n",
    "# results = torch.zeros(num_data, num_category) # テンソルで変数を用意\n",
    "results = np.zeros((num_data, num_category)) # メモリーが足りないと言われるのでテンソルではなくnumpy arrayにしてみた\n",
    "\n",
    "for m in tqdm(range(num_data)):\n",
    "  words = loaded_tokenizer.tokenize(kadaiDai2[\"Abst\"][m])\n",
    "  word_ids = loaded_tokenizer.convert_tokens_to_ids(words)  # 単語をインデックスに変換\n",
    "  word_tensor = torch.tensor([word_ids[:max_length]])  # テンソルに変換\n",
    "  \n",
    "  # y = loaded_model(word_tensor) # GPU未対応時の予測\n",
    "  y = loaded_model(word_tensor.cuda())  # GPU対応時の予測\n",
    "\n",
    "  # results[m,:] = y[0]\n",
    "  results[m,:] = y[0].cpu().detach().numpy()  # テンソルをCPUにコピーしてからNumPy配列に変換\n",
    "  # results[m,:] = y[0].detach().numpy() # テンソルをnumpy arrayに変換\n",
    "\n",
    "# 変数をとりあえずバイナリで保存\n",
    "np.save(data_path+results_binary, results) # 計算結果をとりあえずバイナリで保存\n",
    "\n",
    "print(results.shape)\n",
    "results"
   ]
  },
  {
   "cell_type": "markdown",
   "metadata": {},
   "source": [
    "### ここで一度保存\n",
    "時間がかかる処理のあとなので、この段階で生成できたデータをファイルに保存"
   ]
  },
  {
   "cell_type": "code",
   "execution_count": 15,
   "metadata": {},
   "outputs": [],
   "source": [
    "# コードが不十分\n",
    "data_path = \"./\" # sagemaker\n",
    "Daikubun = [\"A\", \"B\", \"C\", \"D\", \"E\", \"F\", \"G\", \"H\", \"I\", \"J\", \"K\"]\n",
    "\n",
    "results = np.load(data_path+results_binary+\".npy\")\n",
    "\n",
    "# 変数をとりあえずバイナリで保存\n",
    "#np.save(data_path+results_binary, results) # 計算結果をとりあえずバイナリで保存\n",
    "np.savez(data_path+\"categolization_results\", results, kadaiDai2, Daikubun)"
   ]
  },
  {
   "cell_type": "markdown",
   "metadata": {
    "tags": []
   },
   "source": [
    "## 分類結果を保存・表示"
   ]
  },
  {
   "cell_type": "code",
   "execution_count": 18,
   "metadata": {},
   "outputs": [
    {
     "name": "stdout",
     "output_type": "stream",
     "text": [
      "ロードした推定確率データのサイズ 2702 11\n",
      "Saved\n",
      "\n"
     ]
    },
    {
     "data": {
      "text/html": [
       "<div>\n",
       "<style scoped>\n",
       "    .dataframe tbody tr th:only-of-type {\n",
       "        vertical-align: middle;\n",
       "    }\n",
       "\n",
       "    .dataframe tbody tr th {\n",
       "        vertical-align: top;\n",
       "    }\n",
       "\n",
       "    .dataframe thead th {\n",
       "        text-align: right;\n",
       "    }\n",
       "</style>\n",
       "<table border=\"1\" class=\"dataframe\">\n",
       "  <thead>\n",
       "    <tr style=\"text-align: right;\">\n",
       "      <th></th>\n",
       "      <th>A</th>\n",
       "      <th>B</th>\n",
       "      <th>C</th>\n",
       "      <th>D</th>\n",
       "      <th>E</th>\n",
       "      <th>F</th>\n",
       "      <th>G</th>\n",
       "      <th>H</th>\n",
       "      <th>I</th>\n",
       "      <th>J</th>\n",
       "      <th>K</th>\n",
       "    </tr>\n",
       "  </thead>\n",
       "  <tbody>\n",
       "    <tr>\n",
       "      <th>0</th>\n",
       "      <td>4</td>\n",
       "      <td>0</td>\n",
       "      <td>0</td>\n",
       "      <td>1</td>\n",
       "      <td>0</td>\n",
       "      <td>0</td>\n",
       "      <td>0</td>\n",
       "      <td>0</td>\n",
       "      <td>90</td>\n",
       "      <td>0</td>\n",
       "      <td>1</td>\n",
       "    </tr>\n",
       "    <tr>\n",
       "      <th>1</th>\n",
       "      <td>0</td>\n",
       "      <td>0</td>\n",
       "      <td>0</td>\n",
       "      <td>0</td>\n",
       "      <td>0</td>\n",
       "      <td>3</td>\n",
       "      <td>0</td>\n",
       "      <td>7</td>\n",
       "      <td>88</td>\n",
       "      <td>0</td>\n",
       "      <td>0</td>\n",
       "    </tr>\n",
       "    <tr>\n",
       "      <th>2</th>\n",
       "      <td>0</td>\n",
       "      <td>0</td>\n",
       "      <td>0</td>\n",
       "      <td>0</td>\n",
       "      <td>0</td>\n",
       "      <td>0</td>\n",
       "      <td>0</td>\n",
       "      <td>0</td>\n",
       "      <td>97</td>\n",
       "      <td>0</td>\n",
       "      <td>0</td>\n",
       "    </tr>\n",
       "    <tr>\n",
       "      <th>3</th>\n",
       "      <td>1</td>\n",
       "      <td>0</td>\n",
       "      <td>0</td>\n",
       "      <td>1</td>\n",
       "      <td>0</td>\n",
       "      <td>0</td>\n",
       "      <td>0</td>\n",
       "      <td>1</td>\n",
       "      <td>94</td>\n",
       "      <td>0</td>\n",
       "      <td>0</td>\n",
       "    </tr>\n",
       "    <tr>\n",
       "      <th>4</th>\n",
       "      <td>0</td>\n",
       "      <td>0</td>\n",
       "      <td>0</td>\n",
       "      <td>0</td>\n",
       "      <td>0</td>\n",
       "      <td>0</td>\n",
       "      <td>0</td>\n",
       "      <td>0</td>\n",
       "      <td>99</td>\n",
       "      <td>0</td>\n",
       "      <td>0</td>\n",
       "    </tr>\n",
       "    <tr>\n",
       "      <th>...</th>\n",
       "      <td>...</td>\n",
       "      <td>...</td>\n",
       "      <td>...</td>\n",
       "      <td>...</td>\n",
       "      <td>...</td>\n",
       "      <td>...</td>\n",
       "      <td>...</td>\n",
       "      <td>...</td>\n",
       "      <td>...</td>\n",
       "      <td>...</td>\n",
       "      <td>...</td>\n",
       "    </tr>\n",
       "    <tr>\n",
       "      <th>2697</th>\n",
       "      <td>0</td>\n",
       "      <td>0</td>\n",
       "      <td>0</td>\n",
       "      <td>0</td>\n",
       "      <td>0</td>\n",
       "      <td>0</td>\n",
       "      <td>0</td>\n",
       "      <td>2</td>\n",
       "      <td>96</td>\n",
       "      <td>0</td>\n",
       "      <td>0</td>\n",
       "    </tr>\n",
       "    <tr>\n",
       "      <th>2698</th>\n",
       "      <td>0</td>\n",
       "      <td>0</td>\n",
       "      <td>0</td>\n",
       "      <td>5</td>\n",
       "      <td>0</td>\n",
       "      <td>0</td>\n",
       "      <td>0</td>\n",
       "      <td>1</td>\n",
       "      <td>92</td>\n",
       "      <td>0</td>\n",
       "      <td>0</td>\n",
       "    </tr>\n",
       "    <tr>\n",
       "      <th>2699</th>\n",
       "      <td>0</td>\n",
       "      <td>0</td>\n",
       "      <td>0</td>\n",
       "      <td>0</td>\n",
       "      <td>0</td>\n",
       "      <td>0</td>\n",
       "      <td>0</td>\n",
       "      <td>1</td>\n",
       "      <td>97</td>\n",
       "      <td>0</td>\n",
       "      <td>0</td>\n",
       "    </tr>\n",
       "    <tr>\n",
       "      <th>2700</th>\n",
       "      <td>0</td>\n",
       "      <td>0</td>\n",
       "      <td>0</td>\n",
       "      <td>0</td>\n",
       "      <td>0</td>\n",
       "      <td>0</td>\n",
       "      <td>0</td>\n",
       "      <td>0</td>\n",
       "      <td>98</td>\n",
       "      <td>0</td>\n",
       "      <td>0</td>\n",
       "    </tr>\n",
       "    <tr>\n",
       "      <th>2701</th>\n",
       "      <td>0</td>\n",
       "      <td>0</td>\n",
       "      <td>0</td>\n",
       "      <td>0</td>\n",
       "      <td>0</td>\n",
       "      <td>0</td>\n",
       "      <td>0</td>\n",
       "      <td>0</td>\n",
       "      <td>98</td>\n",
       "      <td>0</td>\n",
       "      <td>0</td>\n",
       "    </tr>\n",
       "  </tbody>\n",
       "</table>\n",
       "<p>2702 rows × 11 columns</p>\n",
       "</div>"
      ],
      "text/plain": [
       "      A  B  C  D  E  F  G  H   I  J  K\n",
       "0     4  0  0  1  0  0  0  0  90  0  1\n",
       "1     0  0  0  0  0  3  0  7  88  0  0\n",
       "2     0  0  0  0  0  0  0  0  97  0  0\n",
       "3     1  0  0  1  0  0  0  1  94  0  0\n",
       "4     0  0  0  0  0  0  0  0  99  0  0\n",
       "...  .. .. .. .. .. .. .. ..  .. .. ..\n",
       "2697  0  0  0  0  0  0  0  2  96  0  0\n",
       "2698  0  0  0  5  0  0  0  1  92  0  0\n",
       "2699  0  0  0  0  0  0  0  1  97  0  0\n",
       "2700  0  0  0  0  0  0  0  0  98  0  0\n",
       "2701  0  0  0  0  0  0  0  0  98  0  0\n",
       "\n",
       "[2702 rows x 11 columns]"
      ]
     },
     "execution_count": 18,
     "metadata": {},
     "output_type": "execute_result"
    }
   ],
   "source": [
    "import numpy as np\n",
    "import torch\n",
    "import matplotlib.pyplot as plt\n",
    "from sklearn.metrics import confusion_matrix\n",
    "\n",
    "show_num = 0\n",
    "\n",
    "results_binary = \"results\"\n",
    "# data_path = \"/content/drive/My Drive/bert_nlp/section_5/\" # Google colaboratory\n",
    "data_path = \"./\" # sagemaker\n",
    "Daikubun = [\"A\", \"B\", \"C\", \"D\", \"E\", \"F\", \"G\", \"H\", \"I\", \"J\", \"K\"]\n",
    "\n",
    "# num_category = len(Daikubun)\n",
    "\n",
    "results_2 = np.load(data_path+results_binary+\".npy\")\n",
    "\n",
    "\n",
    "\n",
    "#results_3 = np.load(data_path+\"categolization_results.npz\", allow_pickle=True)\n",
    "#results_2 = results_3['arr_0']\n",
    "#kadaiDai2 = results_3['arr_1']\n",
    "#Daikubun  = results_3['arr_2']\n",
    "\n",
    "print(\"ロードした推定確率データのサイズ %d %d\" % results_2.shape)\n",
    "\n",
    "num_category = len(Daikubun)\n",
    "\n",
    "results_2 = torch.tensor(results_2) # Softmax関数を使うためにテンソルに変換\n",
    "m = torch.nn.Softmax(dim=1) # Softmax関数で確率に変換\n",
    "results_2 = m(results_2)\n",
    "results_2 = results_2.numpy() # numpy arrayに戻す\n",
    "df = pd.DataFrame(results_2, columns = Daikubun) # DataFrameに変換\n",
    "\n",
    "# 保存\n",
    "df.to_csv('output.csv', encoding='shift-jis')\n",
    "print('Saved\\n')\n",
    "\n",
    "# 画面上に表示する目的\n",
    "df = (df * 100).astype(int)\n",
    "df"
   ]
  },
  {
   "cell_type": "code",
   "execution_count": null,
   "metadata": {},
   "outputs": [],
   "source": []
  }
 ],
 "metadata": {
  "accelerator": "GPU",
  "colab": {
   "authorship_tag": "ABX9TyM+jlwIO2oHuQ1CSlhpydtp",
   "collapsed_sections": [],
   "include_colab_link": true,
   "name": "01_news_classification.ipynb",
   "provenance": []
  },
  "kernelspec": {
   "display_name": "default:Python",
   "language": "python",
   "name": "conda-env-default-py"
  },
  "language_info": {
   "codemirror_mode": {
    "name": "ipython",
    "version": 3
   },
   "file_extension": ".py",
   "mimetype": "text/x-python",
   "name": "python",
   "nbconvert_exporter": "python",
   "pygments_lexer": "ipython3",
   "version": "3.9.10"
  }
 },
 "nbformat": 4,
 "nbformat_minor": 4
}
